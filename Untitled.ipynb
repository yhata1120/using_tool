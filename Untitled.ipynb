{
 "cells": [
  {
   "cell_type": "code",
   "execution_count": 1,
   "id": "c8235fd0",
   "metadata": {},
   "outputs": [],
   "source": [
    "import numpy as np\n",
    "import math\n",
    "from numpy import array\n",
    "from numpy import array, dot, round\n",
    "from numpy.linalg import inv, norm\n",
    "import numpy as np\n",
    "from numpy import array, dot, round, cross, ceil\n",
    "from numpy.linalg import inv, det, norm\n",
    "from numpy import cross, dot, ceil\n",
    "from numpy.linalg import norm, inv\n",
    "from numpy import cos, sin, sqrt\n",
    "from numpy.linalg import matrix_power\n",
    "import pandas as pd"
   ]
  },
  {
   "cell_type": "code",
   "execution_count": 4,
   "id": "185bf509",
   "metadata": {},
   "outputs": [],
   "source": [
    "df = pd.read_csv(\"bcc_hkl_angle.csv\", index_col = 0)"
   ]
  },
  {
   "cell_type": "code",
   "execution_count": 42,
   "id": "2aeb602e",
   "metadata": {},
   "outputs": [],
   "source": [
    "df[\"hkl_vector\"] = df[\"hkl\"].apply(hkl_to_vector)"
   ]
  },
  {
   "cell_type": "code",
   "execution_count": 23,
   "id": "f318a9a9",
   "metadata": {},
   "outputs": [],
   "source": [
    "test = [index.replace(\"<\",\"\").replace(\">\",\"\") for index in df.loc[:,\"hkl\"].tolist()]"
   ]
  },
  {
   "cell_type": "code",
   "execution_count": 41,
   "id": "bc38642c",
   "metadata": {},
   "outputs": [],
   "source": [
    "def hkl_to_vector(hkl):\n",
    "    return np.array(hkl.replace(\"<\",\"\").replace(\">\",\"\").split(),dtype = int)"
   ]
  },
  {
   "cell_type": "code",
   "execution_count": 29,
   "id": "192fc5dd",
   "metadata": {},
   "outputs": [
    {
     "data": {
      "text/plain": [
       "numpy.int32"
      ]
     },
     "execution_count": 29,
     "metadata": {},
     "output_type": "execute_result"
    }
   ],
   "source": [
    "np.array(test[0].split(),dtype = int)"
   ]
  },
  {
   "cell_type": "code",
   "execution_count": 35,
   "id": "16a379c0",
   "metadata": {},
   "outputs": [
    {
     "data": {
      "text/plain": [
       "[19, 14, 5]"
      ]
     },
     "execution_count": 35,
     "metadata": {},
     "output_type": "execute_result"
    }
   ],
   "source": [
    "sorted(abs(hkl_to_vector(test[101])),reverse=True)"
   ]
  },
  {
   "cell_type": "code",
   "execution_count": 43,
   "id": "592dfbd1",
   "metadata": {},
   "outputs": [
    {
     "data": {
      "text/html": [
       "<div>\n",
       "<style scoped>\n",
       "    .dataframe tbody tr th:only-of-type {\n",
       "        vertical-align: middle;\n",
       "    }\n",
       "\n",
       "    .dataframe tbody tr th {\n",
       "        vertical-align: top;\n",
       "    }\n",
       "\n",
       "    .dataframe thead th {\n",
       "        text-align: right;\n",
       "    }\n",
       "</style>\n",
       "<table border=\"1\" class=\"dataframe\">\n",
       "  <thead>\n",
       "    <tr style=\"text-align: right;\">\n",
       "      <th></th>\n",
       "      <th>hkl</th>\n",
       "      <th>angle</th>\n",
       "      <th>hkl_vector</th>\n",
       "    </tr>\n",
       "  </thead>\n",
       "  <tbody>\n",
       "    <tr>\n",
       "      <th>0</th>\n",
       "      <td>&lt;0 1 2&gt;</td>\n",
       "      <td>53.130102</td>\n",
       "      <td>[0, 1, 2]</td>\n",
       "    </tr>\n",
       "    <tr>\n",
       "      <th>1</th>\n",
       "      <td>&lt;0 3 1&gt;</td>\n",
       "      <td>36.869898</td>\n",
       "      <td>[0, 3, 1]</td>\n",
       "    </tr>\n",
       "    <tr>\n",
       "      <th>2</th>\n",
       "      <td>&lt;0 2 3&gt;</td>\n",
       "      <td>67.380135</td>\n",
       "      <td>[0, 2, 3]</td>\n",
       "    </tr>\n",
       "    <tr>\n",
       "      <th>3</th>\n",
       "      <td>&lt;0 -1 5&gt;</td>\n",
       "      <td>22.619865</td>\n",
       "      <td>[0, -1, 5]</td>\n",
       "    </tr>\n",
       "    <tr>\n",
       "      <th>4</th>\n",
       "      <td>&lt;0 4 1&gt;</td>\n",
       "      <td>28.072487</td>\n",
       "      <td>[0, 4, 1]</td>\n",
       "    </tr>\n",
       "    <tr>\n",
       "      <th>...</th>\n",
       "      <td>...</td>\n",
       "      <td>...</td>\n",
       "      <td>...</td>\n",
       "    </tr>\n",
       "    <tr>\n",
       "      <th>97</th>\n",
       "      <td>&lt;8 11 -19&gt;</td>\n",
       "      <td>49.582562</td>\n",
       "      <td>[8, 11, -19]</td>\n",
       "    </tr>\n",
       "    <tr>\n",
       "      <th>98</th>\n",
       "      <td>&lt;6 -1 -5&gt;</td>\n",
       "      <td>17.896551</td>\n",
       "      <td>[6, -1, -5]</td>\n",
       "    </tr>\n",
       "    <tr>\n",
       "      <th>99</th>\n",
       "      <td>&lt;7 4 -11&gt;</td>\n",
       "      <td>42.103449</td>\n",
       "      <td>[7, 4, -11]</td>\n",
       "    </tr>\n",
       "    <tr>\n",
       "      <th>100</th>\n",
       "      <td>&lt;8 3 -11&gt;</td>\n",
       "      <td>30.590689</td>\n",
       "      <td>[8, 3, -11]</td>\n",
       "    </tr>\n",
       "    <tr>\n",
       "      <th>101</th>\n",
       "      <td>&lt;19 -5 -14&gt;</td>\n",
       "      <td>29.409311</td>\n",
       "      <td>[19, -5, -14]</td>\n",
       "    </tr>\n",
       "  </tbody>\n",
       "</table>\n",
       "<p>102 rows × 3 columns</p>\n",
       "</div>"
      ],
      "text/plain": [
       "             hkl      angle     hkl_vector\n",
       "0        <0 1 2>  53.130102      [0, 1, 2]\n",
       "1        <0 3 1>  36.869898      [0, 3, 1]\n",
       "2        <0 2 3>  67.380135      [0, 2, 3]\n",
       "3       <0 -1 5>  22.619865     [0, -1, 5]\n",
       "4        <0 4 1>  28.072487      [0, 4, 1]\n",
       "..           ...        ...            ...\n",
       "97    <8 11 -19>  49.582562   [8, 11, -19]\n",
       "98     <6 -1 -5>  17.896551    [6, -1, -5]\n",
       "99     <7 4 -11>  42.103449    [7, 4, -11]\n",
       "100    <8 3 -11>  30.590689    [8, 3, -11]\n",
       "101  <19 -5 -14>  29.409311  [19, -5, -14]\n",
       "\n",
       "[102 rows x 3 columns]"
      ]
     },
     "execution_count": 43,
     "metadata": {},
     "output_type": "execute_result"
    }
   ],
   "source": [
    "df"
   ]
  },
  {
   "cell_type": "code",
   "execution_count": null,
   "id": "a4778079",
   "metadata": {},
   "outputs": [],
   "source": []
  }
 ],
 "metadata": {
  "kernelspec": {
   "display_name": "Python 3",
   "language": "python",
   "name": "python3"
  },
  "language_info": {
   "codemirror_mode": {
    "name": "ipython",
    "version": 3
   },
   "file_extension": ".py",
   "mimetype": "text/x-python",
   "name": "python",
   "nbconvert_exporter": "python",
   "pygments_lexer": "ipython3",
   "version": "3.7.10"
  }
 },
 "nbformat": 4,
 "nbformat_minor": 5
}
