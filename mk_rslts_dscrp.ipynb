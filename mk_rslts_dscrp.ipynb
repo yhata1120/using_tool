{
 "cells": [
  {
   "cell_type": "code",
   "execution_count": 79,
   "metadata": {},
   "outputs": [],
   "source": [
    "import os\n",
    "import shutil\n",
    "import glob\n",
    "import numpy as np\n",
    "import pandas as pd"
   ]
  },
  {
   "cell_type": "code",
   "execution_count": 64,
   "metadata": {},
   "outputs": [],
   "source": [
    "# resultsはこの関数を実行する前にnew_filesに集めておく\n",
    "# 分類した元素のフォルダの上のディレクトリで実行するとラベル付けされたarrayを返す\n",
    "# new_filesの中の各GBfileにresultsとdescriptorをそろえておく\n",
    "\n",
    "def mk_rslts_dscrp(base):\n",
    "    basedir = os.getcwd()\n",
    "    for name in glob.glob('./**/*results.txt', recursive=True):\n",
    "        category_list = name.split('\\\\')[1:-1]\n",
    "#        print(category_list)\n",
    "        category = '\\\\'.join(name.split('\\\\')[:-1])\n",
    "        print(category)\n",
    "        os.chdir(os.path.abspath(category))\n",
    "        results = np.loadtxt('results.txt', unpack = True)\n",
    "        descriptor = np.loadtxt('descriptor.txt', unpack = True)\n",
    "        colomn_num = len(results) + len(descriptor) + 3\n",
    "        os.chdir(basedir)\n",
    "    final_data = np.full(colomn_num,0)\n",
    "    for name in glob.glob('./**/*results.txt', recursive=True):\n",
    "        category_list = name.split('\\\\')[1:-1]\n",
    "        print(category_list)\n",
    "        category = '\\\\'.join(name.split('\\\\')[:-1])   \n",
    "        os.chdir(os.path.abspath(category))\n",
    "        results = np.loadtxt('results.txt', unpack = False)\n",
    "        descriptor = np.loadtxt('descriptor.txt', unpack = False)\n",
    "        data = np.hstack((results,descriptor))\n",
    "        print(data)\n",
    "# np.tileを使っているここが肝\n",
    "        category_list = np.tile(category_list,(len(data),1))\n",
    "        data = np.hstack((category_list,data))\n",
    "        final_data = np.vstack((final_data,data))\n",
    "    #    print(os.getcwd())\n",
    "\n",
    "        os.chdir(basedir)\n",
    "    final_data = np.delete(final_data,0,axis = 0)\n",
    "    return final_data\n",
    "#     print(final_data)\n"
   ]
  },
  {
   "cell_type": "code",
   "execution_count": 66,
   "metadata": {},
   "outputs": [
    {
     "data": {
      "text/plain": [
       "'C:\\\\Users\\\\hatayuki\\\\OneDrive - The University of Tokyo\\\\now_using\\\\210909'"
      ]
     },
     "execution_count": 66,
     "metadata": {},
     "output_type": "execute_result"
    }
   ],
   "source": [
    "os.chdir('..')\n",
    "os.getcwd()"
   ]
  },
  {
   "cell_type": "code",
   "execution_count": 67,
   "metadata": {},
   "outputs": [
    {
     "data": {
      "text/plain": [
       "['Ag', 'Al', 'Au']"
      ]
     },
     "execution_count": 67,
     "metadata": {},
     "output_type": "execute_result"
    }
   ],
   "source": [
    "os.listdir('.')"
   ]
  },
  {
   "cell_type": "code",
   "execution_count": 68,
   "metadata": {},
   "outputs": [],
   "source": [
    "# results,descriptorはこの関数を実行する前にnew_filesに集めておく\n",
    "# 分類した元素のフォルダの上のディレクトリで実行するとラベル付けされたarrayを返す\n",
    "# new_filesの中の各GBfileにresultsとdescriptorをそろえておく\n",
    "def mk_rslts_dscrp():\n",
    "    firstLoop = True\n",
    "    for name in glob.glob('./**/*results', recursive=True):\n",
    "        category_list = name.split('\\\\')[1:-1]\n",
    "        print(category_list)\n",
    "        foldername = '\\\\'.join(name.split('\\\\')[:-1])\n",
    "        results = np.loadtxt(f'{foldername}\\\\results', unpack = False)\n",
    "        descriptor = np.loadtxt(f'{foldername}\\\\descriptor', unpack = False)\n",
    "        data = np.hstack((results,descriptor))\n",
    "# np.tile\n",
    "        category_list = np.tile(category_list,(len(data),1))\n",
    "        data = np.hstack((category_list,data))\n",
    "        \n",
    "        if firstLoop:\n",
    "            final_data = data\n",
    "            firstLoop = False\n",
    "        else:\n",
    "            final_data = np.vstack((final_data,data))\n",
    "    return final_data\n"
   ]
  },
  {
   "cell_type": "code",
   "execution_count": 69,
   "metadata": {
    "scrolled": true
   },
   "outputs": [
    {
     "name": "stdout",
     "output_type": "stream",
     "text": [
      "['Ag', '100', '001']\n",
      "['Ag', '100', '002']\n",
      "['Ag', '100', '003']\n",
      "['Ag', '100', '004']\n",
      "['Ag', '100', '005']\n",
      "['Ag', '100', '006']\n",
      "['Ag', '100', '007']\n",
      "['Ag', '100', '008']\n",
      "['Ag', '100', '009']\n",
      "['Ag', '100', '010']\n",
      "['Ag', '100', '011']\n",
      "['Ag', '100', '012']\n",
      "['Ag', '100', '013']\n",
      "['Ag', '100', '014']\n",
      "['Ag', '100', '015']\n",
      "['Ag', '100', '016']\n",
      "['Ag', '100', '017']\n",
      "['Ag', '100', '018']\n",
      "['Ag', '100', '019']\n",
      "['Ag', '100', '020']\n",
      "['Ag', '100', '021']\n",
      "['Ag', '100', '022']\n",
      "['Ag', '100', '023']\n",
      "['Ag', '100', '024']\n",
      "['Ag', '100', '025']\n",
      "['Ag', '100', '026']\n",
      "['Ag', '100', '027']\n",
      "['Ag', '100', '028']\n",
      "['Ag', '110', '029']\n",
      "['Ag', '110', '030']\n",
      "['Ag', '110', '031']\n",
      "['Ag', '110', '032']\n",
      "['Ag', '110', '033']\n",
      "['Ag', '110', '034']\n",
      "['Ag', '110', '035']\n",
      "['Ag', '110', '036']\n",
      "['Ag', '110', '037']\n",
      "['Ag', '110', '038']\n",
      "['Ag', '110', '039']\n",
      "['Ag', '110', '040']\n",
      "['Ag', '110', '041']\n",
      "['Ag', '110', '042']\n",
      "['Ag', '110', '043']\n",
      "['Ag', '110', '044']\n",
      "['Ag', '110', '045']\n",
      "['Ag', '110', '046']\n",
      "['Ag', '110', '047']\n",
      "['Ag', '110', '048']\n",
      "['Ag', '110', '049']\n",
      "['Ag', '110', '050']\n",
      "['Ag', '110', '051']\n",
      "['Ag', '110', '052']\n",
      "['Ag', '110', '053']\n",
      "['Ag', '110', '054']\n",
      "['Ag', '110', '055']\n",
      "['Ag', '110', '056']\n",
      "['Ag', '110', '057']\n",
      "['Ag', '110', '058']\n",
      "['Ag', '110', '059']\n",
      "['Ag', '110', '060']\n",
      "['Ag', '110', '061']\n",
      "['Ag', '110', '062']\n",
      "['Ag', '110', '063']\n",
      "['Ag', '110', '064']\n",
      "['Ag', '110', '065']\n",
      "['Ag', '110', '066']\n",
      "['Ag', '111', '067']\n",
      "['Ag', '111', '068']\n",
      "['Ag', '111', '069']\n",
      "['Ag', '111', '070']\n",
      "['Ag', '111', '071']\n",
      "['Ag', '111', '072']\n",
      "['Ag', '111', '073']\n",
      "['Ag', '111', '074']\n",
      "['Ag', '111', '075']\n",
      "['Ag', '111', '076']\n",
      "['Ag', '111', '077']\n",
      "['Ag', '111', '078']\n",
      "['Ag', '111', '079']\n",
      "['Ag', '111', '080']\n",
      "['Ag', '111', '081']\n",
      "['Ag', '111', '082']\n",
      "['Ag', '111', '083']\n",
      "['Ag', '111', '084']\n",
      "['Ag', '111', '085']\n",
      "['Ag', '111', '086']\n",
      "['Ag', '111', '087']\n",
      "['Ag', '111', '088']\n",
      "['Ag', '111', '089']\n",
      "['Ag', '111', '090']\n",
      "['Ag', '111', '091']\n",
      "['Ag', '111', '092']\n",
      "['Ag', '111', '093']\n",
      "['Ag', '111', '094']\n",
      "['Ag', '111', '095']\n",
      "['Ag', '111', '096']\n",
      "['Ag', '111', '097']\n",
      "['Ag', '111', '098']\n",
      "['Ag', '111', '099']\n",
      "['Ag', '111', '100']\n",
      "['Ag', '111', '101']\n",
      "['Ag', '111', '102']\n",
      "['Al', '100', '001']\n",
      "['Al', '100', '002']\n",
      "['Al', '100', '003']\n",
      "['Al', '100', '004']\n",
      "['Al', '100', '005']\n",
      "['Al', '100', '006']\n",
      "['Al', '100', '007']\n",
      "['Al', '100', '008']\n",
      "['Al', '100', '009']\n",
      "['Al', '100', '010']\n",
      "['Al', '100', '011']\n",
      "['Al', '100', '012']\n",
      "['Al', '100', '013']\n",
      "['Al', '100', '014']\n",
      "['Al', '100', '015']\n",
      "['Al', '100', '016']\n",
      "['Al', '100', '017']\n",
      "['Al', '100', '018']\n",
      "['Al', '100', '019']\n",
      "['Al', '100', '020']\n",
      "['Al', '100', '021']\n",
      "['Al', '100', '022']\n",
      "['Al', '100', '023']\n",
      "['Al', '100', '024']\n",
      "['Al', '100', '025']\n",
      "['Al', '100', '026']\n",
      "['Al', '100', '027']\n",
      "['Al', '100', '028']\n",
      "['Al', '110', '029']\n",
      "['Al', '110', '030']\n",
      "['Al', '110', '031']\n",
      "['Al', '110', '032']\n",
      "['Al', '110', '033']\n",
      "['Al', '110', '034']\n",
      "['Al', '110', '035']\n",
      "['Al', '110', '036']\n",
      "['Al', '110', '037']\n",
      "['Al', '110', '038']\n",
      "['Al', '110', '039']\n",
      "['Al', '110', '040']\n",
      "['Al', '110', '041']\n",
      "['Al', '110', '042']\n",
      "['Al', '110', '043']\n",
      "['Al', '110', '044']\n",
      "['Al', '110', '045']\n",
      "['Al', '110', '046']\n",
      "['Al', '110', '047']\n",
      "['Al', '110', '048']\n",
      "['Al', '110', '049']\n",
      "['Al', '110', '050']\n",
      "['Al', '110', '051']\n",
      "['Al', '110', '052']\n",
      "['Al', '110', '053']\n",
      "['Al', '110', '054']\n",
      "['Al', '110', '055']\n",
      "['Al', '110', '056']\n",
      "['Al', '110', '057']\n",
      "['Al', '110', '058']\n",
      "['Al', '110', '059']\n",
      "['Al', '110', '060']\n",
      "['Al', '110', '061']\n",
      "['Al', '110', '062']\n",
      "['Al', '110', '063']\n",
      "['Al', '110', '064']\n",
      "['Al', '110', '065']\n",
      "['Al', '110', '066']\n",
      "['Al', '111', '067']\n",
      "['Al', '111', '068']\n",
      "['Al', '111', '069']\n",
      "['Al', '111', '070']\n",
      "['Al', '111', '071']\n",
      "['Al', '111', '072']\n",
      "['Al', '111', '073']\n",
      "['Al', '111', '074']\n",
      "['Al', '111', '075']\n",
      "['Al', '111', '076']\n",
      "['Al', '111', '077']\n",
      "['Al', '111', '078']\n",
      "['Al', '111', '079']\n",
      "['Al', '111', '080']\n",
      "['Al', '111', '081']\n",
      "['Al', '111', '082']\n",
      "['Al', '111', '083']\n",
      "['Al', '111', '084']\n",
      "['Al', '111', '085']\n",
      "['Al', '111', '086']\n",
      "['Al', '111', '087']\n",
      "['Al', '111', '088']\n",
      "['Al', '111', '089']\n",
      "['Al', '111', '090']\n",
      "['Al', '111', '091']\n",
      "['Al', '111', '092']\n",
      "['Al', '111', '093']\n",
      "['Al', '111', '094']\n",
      "['Al', '111', '095']\n",
      "['Al', '111', '096']\n",
      "['Al', '111', '097']\n",
      "['Al', '111', '098']\n",
      "['Al', '111', '099']\n",
      "['Al', '111', '100']\n",
      "['Al', '111', '101']\n",
      "['Al', '111', '102']\n",
      "['Au', '100', '001']\n",
      "['Au', '100', '002']\n",
      "['Au', '100', '003']\n",
      "['Au', '100', '004']\n",
      "['Au', '100', '005']\n",
      "['Au', '100', '006']\n",
      "['Au', '100', '007']\n",
      "['Au', '100', '008']\n",
      "['Au', '100', '009']\n",
      "['Au', '100', '010']\n",
      "['Au', '100', '011']\n",
      "['Au', '100', '012']\n",
      "['Au', '100', '013']\n",
      "['Au', '100', '014']\n",
      "['Au', '100', '015']\n",
      "['Au', '100', '016']\n",
      "['Au', '100', '017']\n",
      "['Au', '100', '018']\n",
      "['Au', '100', '019']\n",
      "['Au', '100', '020']\n",
      "['Au', '100', '021']\n",
      "['Au', '100', '022']\n",
      "['Au', '100', '023']\n",
      "['Au', '100', '024']\n",
      "['Au', '100', '025']\n",
      "['Au', '100', '026']\n",
      "['Au', '100', '027']\n",
      "['Au', '100', '028']\n",
      "['Au', '110', '029']\n",
      "['Au', '110', '030']\n",
      "['Au', '110', '031']\n",
      "['Au', '110', '032']\n",
      "['Au', '110', '033']\n",
      "['Au', '110', '034']\n",
      "['Au', '110', '035']\n",
      "['Au', '110', '036']\n",
      "['Au', '110', '037']\n",
      "['Au', '110', '038']\n",
      "['Au', '110', '039']\n",
      "['Au', '110', '040']\n",
      "['Au', '110', '041']\n",
      "['Au', '110', '042']\n",
      "['Au', '110', '043']\n",
      "['Au', '110', '044']\n",
      "['Au', '110', '045']\n",
      "['Au', '110', '046']\n",
      "['Au', '110', '047']\n",
      "['Au', '110', '048']\n",
      "['Au', '110', '049']\n",
      "['Au', '110', '050']\n",
      "['Au', '110', '051']\n",
      "['Au', '110', '052']\n",
      "['Au', '110', '053']\n",
      "['Au', '110', '054']\n",
      "['Au', '110', '055']\n",
      "['Au', '110', '056']\n",
      "['Au', '110', '057']\n",
      "['Au', '110', '058']\n",
      "['Au', '110', '059']\n",
      "['Au', '110', '060']\n",
      "['Au', '110', '061']\n",
      "['Au', '110', '062']\n",
      "['Au', '110', '063']\n",
      "['Au', '110', '064']\n",
      "['Au', '110', '065']\n",
      "['Au', '110', '066']\n",
      "['Au', '111', '067']\n",
      "['Au', '111', '068']\n",
      "['Au', '111', '069']\n",
      "['Au', '111', '070']\n",
      "['Au', '111', '071']\n",
      "['Au', '111', '072']\n",
      "['Au', '111', '073']\n",
      "['Au', '111', '074']\n",
      "['Au', '111', '075']\n",
      "['Au', '111', '076']\n",
      "['Au', '111', '077']\n",
      "['Au', '111', '078']\n",
      "['Au', '111', '079']\n",
      "['Au', '111', '080']\n",
      "['Au', '111', '081']\n",
      "['Au', '111', '082']\n",
      "['Au', '111', '083']\n",
      "['Au', '111', '084']\n",
      "['Au', '111', '085']\n",
      "['Au', '111', '086']\n",
      "['Au', '111', '087']\n",
      "['Au', '111', '088']\n",
      "['Au', '111', '089']\n",
      "['Au', '111', '090']\n",
      "['Au', '111', '091']\n",
      "['Au', '111', '092']\n",
      "['Au', '111', '093']\n",
      "['Au', '111', '094']\n",
      "['Au', '111', '095']\n",
      "['Au', '111', '096']\n",
      "['Au', '111', '097']\n",
      "['Au', '111', '098']\n",
      "['Au', '111', '099']\n",
      "['Au', '111', '100']\n",
      "['Au', '111', '101']\n",
      "['Au', '111', '102']\n"
     ]
    }
   ],
   "source": [
    "data = mk_rslts_dscrp()"
   ]
  },
  {
   "cell_type": "code",
   "execution_count": 99,
   "metadata": {},
   "outputs": [],
   "source": [
    "df_data = pd.DataFrame(data)\n",
    "df_data.to_csv('df_data.csv')"
   ]
  },
  {
   "cell_type": "code",
   "execution_count": 131,
   "metadata": {},
   "outputs": [
    {
     "data": {
      "text/html": [
       "<div>\n",
       "<style scoped>\n",
       "    .dataframe tbody tr th:only-of-type {\n",
       "        vertical-align: middle;\n",
       "    }\n",
       "\n",
       "    .dataframe tbody tr th {\n",
       "        vertical-align: top;\n",
       "    }\n",
       "\n",
       "    .dataframe thead th {\n",
       "        text-align: right;\n",
       "    }\n",
       "</style>\n",
       "<table border=\"1\" class=\"dataframe\">\n",
       "  <thead>\n",
       "    <tr style=\"text-align: right;\">\n",
       "      <th></th>\n",
       "      <th></th>\n",
       "      <th></th>\n",
       "      <th></th>\n",
       "      <th>3</th>\n",
       "      <th>4</th>\n",
       "      <th>5</th>\n",
       "      <th>energy</th>\n",
       "      <th>7</th>\n",
       "      <th>8</th>\n",
       "      <th>9</th>\n",
       "      <th>10</th>\n",
       "      <th>11</th>\n",
       "      <th>12</th>\n",
       "      <th>13</th>\n",
       "      <th>14</th>\n",
       "      <th>15</th>\n",
       "      <th>16</th>\n",
       "      <th>17</th>\n",
       "    </tr>\n",
       "    <tr>\n",
       "      <th>element</th>\n",
       "      <th>axis</th>\n",
       "      <th>gbindex</th>\n",
       "      <th>index</th>\n",
       "      <th></th>\n",
       "      <th></th>\n",
       "      <th></th>\n",
       "      <th></th>\n",
       "      <th></th>\n",
       "      <th></th>\n",
       "      <th></th>\n",
       "      <th></th>\n",
       "      <th></th>\n",
       "      <th></th>\n",
       "      <th></th>\n",
       "      <th></th>\n",
       "      <th></th>\n",
       "      <th></th>\n",
       "      <th></th>\n",
       "    </tr>\n",
       "  </thead>\n",
       "  <tbody>\n",
       "    <tr>\n",
       "      <th rowspan=\"5\" valign=\"top\">Ag</th>\n",
       "      <th rowspan=\"5\" valign=\"top\">100</th>\n",
       "      <th rowspan=\"5\" valign=\"top\">1</th>\n",
       "      <th>0</th>\n",
       "      <td>0</td>\n",
       "      <td>0.000000e+00</td>\n",
       "      <td>0.000000</td>\n",
       "      <td>932.215040</td>\n",
       "      <td>0.586233</td>\n",
       "      <td>1</td>\n",
       "      <td>1</td>\n",
       "      <td>2.338264</td>\n",
       "      <td>2.880000</td>\n",
       "      <td>80</td>\n",
       "      <td>680</td>\n",
       "      <td>1.931963</td>\n",
       "      <td>2.880000</td>\n",
       "      <td>1.287975</td>\n",
       "      <td>240</td>\n",
       "    </tr>\n",
       "    <tr>\n",
       "      <th>1</th>\n",
       "      <td>0</td>\n",
       "      <td>4.650000e-17</td>\n",
       "      <td>0.195148</td>\n",
       "      <td>933.064724</td>\n",
       "      <td>0.586165</td>\n",
       "      <td>1</td>\n",
       "      <td>2</td>\n",
       "      <td>2.314516</td>\n",
       "      <td>2.844619</td>\n",
       "      <td>120</td>\n",
       "      <td>692</td>\n",
       "      <td>2.197623</td>\n",
       "      <td>2.898206</td>\n",
       "      <td>1.302675</td>\n",
       "      <td>240</td>\n",
       "    </tr>\n",
       "    <tr>\n",
       "      <th>2</th>\n",
       "      <td>0</td>\n",
       "      <td>9.300000e-17</td>\n",
       "      <td>0.390296</td>\n",
       "      <td>935.633536</td>\n",
       "      <td>0.586739</td>\n",
       "      <td>1</td>\n",
       "      <td>3</td>\n",
       "      <td>2.368667</td>\n",
       "      <td>2.830298</td>\n",
       "      <td>200</td>\n",
       "      <td>744</td>\n",
       "      <td>2.425024</td>\n",
       "      <td>2.880000</td>\n",
       "      <td>1.345812</td>\n",
       "      <td>360</td>\n",
       "    </tr>\n",
       "    <tr>\n",
       "      <th>3</th>\n",
       "      <td>0</td>\n",
       "      <td>1.400000e-16</td>\n",
       "      <td>0.585443</td>\n",
       "      <td>939.860373</td>\n",
       "      <td>0.581477</td>\n",
       "      <td>1</td>\n",
       "      <td>4</td>\n",
       "      <td>2.347579</td>\n",
       "      <td>2.832127</td>\n",
       "      <td>200</td>\n",
       "      <td>740</td>\n",
       "      <td>2.408533</td>\n",
       "      <td>2.880000</td>\n",
       "      <td>1.414788</td>\n",
       "      <td>360</td>\n",
       "    </tr>\n",
       "    <tr>\n",
       "      <th>4</th>\n",
       "      <td>0</td>\n",
       "      <td>1.860000e-16</td>\n",
       "      <td>0.780591</td>\n",
       "      <td>872.995523</td>\n",
       "      <td>0.433674</td>\n",
       "      <td>1</td>\n",
       "      <td>5</td>\n",
       "      <td>2.336659</td>\n",
       "      <td>2.839053</td>\n",
       "      <td>200</td>\n",
       "      <td>742</td>\n",
       "      <td>2.405609</td>\n",
       "      <td>2.880000</td>\n",
       "      <td>1.506055</td>\n",
       "      <td>360</td>\n",
       "    </tr>\n",
       "  </tbody>\n",
       "</table>\n",
       "</div>"
      ],
      "text/plain": [
       "                            3             4         5      energy         7  \\\n",
       "element axis gbindex index                                                    \n",
       "Ag      100  1       0      0  0.000000e+00  0.000000  932.215040  0.586233   \n",
       "                     1      0  4.650000e-17  0.195148  933.064724  0.586165   \n",
       "                     2      0  9.300000e-17  0.390296  935.633536  0.586739   \n",
       "                     3      0  1.400000e-16  0.585443  939.860373  0.581477   \n",
       "                     4      0  1.860000e-16  0.780591  872.995523  0.433674   \n",
       "\n",
       "                            8  9        10        11   12   13        14  \\\n",
       "element axis gbindex index                                                 \n",
       "Ag      100  1       0      1  1  2.338264  2.880000   80  680  1.931963   \n",
       "                     1      1  2  2.314516  2.844619  120  692  2.197623   \n",
       "                     2      1  3  2.368667  2.830298  200  744  2.425024   \n",
       "                     3      1  4  2.347579  2.832127  200  740  2.408533   \n",
       "                     4      1  5  2.336659  2.839053  200  742  2.405609   \n",
       "\n",
       "                                  15        16   17  \n",
       "element axis gbindex index                           \n",
       "Ag      100  1       0      2.880000  1.287975  240  \n",
       "                     1      2.898206  1.302675  240  \n",
       "                     2      2.880000  1.345812  360  \n",
       "                     3      2.880000  1.414788  360  \n",
       "                     4      2.880000  1.506055  360  "
      ]
     },
     "execution_count": 131,
     "metadata": {},
     "output_type": "execute_result"
    }
   ],
   "source": [
    "df_data = pd.read_csv('df_data.csv',header = 0)\n",
    "df_data = df_data.rename(columns={df_data.columns[0]: 'index'})\n",
    "df_data = df_data.rename(columns={df_data.columns[7]: 'energy'})\n",
    "df_data = df_data.set_index(['element','axis','gbindex','index'])\n",
    "df_data.head()"
   ]
  },
  {
   "cell_type": "code",
   "execution_count": 109,
   "metadata": {},
   "outputs": [
    {
     "name": "stdout",
     "output_type": "stream",
     "text": [
      "                                2          3         4             5  \\\n",
      "element axis gbindex                                                   \n",
      "Cr      100  1            <0 1 2>  53.130102  2.880978 -9.930000e-17   \n",
      "             2            <0 3 1>  36.869898  2.880978 -1.400000e-16   \n",
      "             3            <0 2 3>  67.380135 -2.880978  2.710000e-17   \n",
      "             4           <0 -1 5>  22.619865  2.880978  1.150000e-16   \n",
      "             5            <0 4 1>  28.072487  2.880978  7.120000e-17   \n",
      "...                           ...        ...       ...           ...   \n",
      "Pt      111  98       <-8 -11 19>  49.582562 -6.785087  9.300000e-15   \n",
      "             99         <-1 -5 6>  17.896551  2.261696  1.190000e-16   \n",
      "             100       <-7 -4 11>  42.103449  6.785087  1.130000e-15   \n",
      "             101       <-8 -3 11>  30.590689  6.785087 -5.440000e-16   \n",
      "             102      <-5 -14 19>  29.409311  6.785087 -4.880000e-15   \n",
      "\n",
      "                                 6          7         8          9  \\\n",
      "element axis gbindex                                                 \n",
      "Cr      100  1        8.880000e-16   6.442062  2.880978   6.442062   \n",
      "             2       -1.440489e+00  -4.555226  2.880978   4.777561   \n",
      "             3       -3.770000e-15 -10.387513  2.880978  10.387513   \n",
      "             4       -1.440489e+00  -7.345081  2.880978   7.485000   \n",
      "             5        1.060000e-15  11.878576  2.880978  11.878576   \n",
      "...                            ...        ...       ...        ...   \n",
      "Pt      111  98      -2.030000e-15 -26.424116  6.785087  26.424116   \n",
      "             99      -1.220000e-15   8.904304  2.261696   8.904304   \n",
      "             100      2.090000e-15  15.422707  6.785087  15.422707   \n",
      "             101      2.261696e+00 -15.750887  6.785087  15.912438   \n",
      "             102     -1.860000e-14  27.281336  6.785087  27.281336   \n",
      "\n",
      "                              10  11  12  13  \n",
      "element axis gbindex                          \n",
      "Cr      100  1         18.559439   5   1   1  \n",
      "             2         13.123505   5   1   2  \n",
      "             3         29.926196  13   1   1  \n",
      "             4         21.161016  13   1   2  \n",
      "             5         34.221914  17   1   1  \n",
      "...                          ...  ..  ..  ..  \n",
      "Pt      111  98       179.289913  91   3   2  \n",
      "             99        20.138825  93   3   1  \n",
      "             100      104.644404  93   3   2  \n",
      "             101      106.871130  97   3   1  \n",
      "             102      185.106227  97   3   2  \n",
      "\n",
      "[1530 rows x 12 columns]\n"
     ]
    }
   ],
   "source": [
    "df_cnid = pd.read_csv('concat.csv', header = 0)\n",
    "df_cnid = df_cnid.set_index(['element','axis','gbindex'])\n"
   ]
  },
  {
   "cell_type": "code",
   "execution_count": 117,
   "metadata": {},
   "outputs": [],
   "source": [
    "groupby = df_cnid.groupby('element')\n",
    "df_cnid_Al = groupby.get_group('Al')\n",
    "df_cnid_Ag = groupby.get_group('Ag')\n",
    "df_cnid_Au = groupby.get_group('Au')\n",
    "df_test = pd.concat([df_cnid_Al,df_cnid_Ag])\n",
    "df_test = pd.concat([df_test,df_cnid_Au])"
   ]
  },
  {
   "cell_type": "code",
   "execution_count": 132,
   "metadata": {},
   "outputs": [],
   "source": [
    "def df_stack(df_multi,df_multi2):\n",
    "    column_list = df_multi2.columns.tolist()\n",
    "    for i in df_multi2.index.tolist():\n",
    "    #    A, B = i\n",
    "        for column_name in column_list:\n",
    "            n = df_multi2.index.tolist().index(i)\n",
    "            df_multi.loc[tuple(i),column_name] = df_multi2[column_name].tolist()[n]\n",
    "    return df_multi"
   ]
  },
  {
   "cell_type": "code",
   "execution_count": 133,
   "metadata": {},
   "outputs": [],
   "source": [
    "df_dash = df_stack(df_data,df_test)"
   ]
  },
  {
   "cell_type": "code",
   "execution_count": 135,
   "metadata": {},
   "outputs": [
    {
     "data": {
      "text/html": [
       "<div>\n",
       "<style scoped>\n",
       "    .dataframe tbody tr th:only-of-type {\n",
       "        vertical-align: middle;\n",
       "    }\n",
       "\n",
       "    .dataframe tbody tr th {\n",
       "        vertical-align: top;\n",
       "    }\n",
       "\n",
       "    .dataframe thead th {\n",
       "        text-align: right;\n",
       "    }\n",
       "</style>\n",
       "<table border=\"1\" class=\"dataframe\">\n",
       "  <thead>\n",
       "    <tr style=\"text-align: right;\">\n",
       "      <th></th>\n",
       "      <th></th>\n",
       "      <th></th>\n",
       "      <th></th>\n",
       "      <th>misorientation</th>\n",
       "      <th>4</th>\n",
       "      <th>5</th>\n",
       "      <th>energy</th>\n",
       "      <th>7</th>\n",
       "      <th>8</th>\n",
       "      <th>9</th>\n",
       "      <th>10</th>\n",
       "      <th>11</th>\n",
       "      <th>12</th>\n",
       "      <th>13</th>\n",
       "      <th>14</th>\n",
       "      <th>15</th>\n",
       "      <th>16</th>\n",
       "      <th>17</th>\n",
       "      <th>2</th>\n",
       "      <th>6</th>\n",
       "    </tr>\n",
       "    <tr>\n",
       "      <th>element</th>\n",
       "      <th>axis</th>\n",
       "      <th>gbindex</th>\n",
       "      <th>index</th>\n",
       "      <th></th>\n",
       "      <th></th>\n",
       "      <th></th>\n",
       "      <th></th>\n",
       "      <th></th>\n",
       "      <th></th>\n",
       "      <th></th>\n",
       "      <th></th>\n",
       "      <th></th>\n",
       "      <th></th>\n",
       "      <th></th>\n",
       "      <th></th>\n",
       "      <th></th>\n",
       "      <th></th>\n",
       "      <th></th>\n",
       "      <th></th>\n",
       "      <th></th>\n",
       "    </tr>\n",
       "  </thead>\n",
       "  <tbody>\n",
       "    <tr>\n",
       "      <th rowspan=\"5\" valign=\"top\">Ag</th>\n",
       "      <th rowspan=\"5\" valign=\"top\">100</th>\n",
       "      <th rowspan=\"5\" valign=\"top\">1</th>\n",
       "      <th>0</th>\n",
       "      <td>36.869898</td>\n",
       "      <td>4.072935</td>\n",
       "      <td>-4.320000e-16</td>\n",
       "      <td>932.215040</td>\n",
       "      <td>6.439876</td>\n",
       "      <td>4.072935</td>\n",
       "      <td>6.439876</td>\n",
       "      <td>26.229196</td>\n",
       "      <td>5.0</td>\n",
       "      <td>1</td>\n",
       "      <td>1</td>\n",
       "      <td>1.931963</td>\n",
       "      <td>2.880000</td>\n",
       "      <td>1.287975</td>\n",
       "      <td>240</td>\n",
       "      <td>&lt;0 -1 3&gt;</td>\n",
       "      <td>1.540000e-15</td>\n",
       "    </tr>\n",
       "    <tr>\n",
       "      <th>1</th>\n",
       "      <td>36.869898</td>\n",
       "      <td>4.072935</td>\n",
       "      <td>-4.320000e-16</td>\n",
       "      <td>933.064724</td>\n",
       "      <td>6.439876</td>\n",
       "      <td>4.072935</td>\n",
       "      <td>6.439876</td>\n",
       "      <td>26.229196</td>\n",
       "      <td>5.0</td>\n",
       "      <td>1</td>\n",
       "      <td>1</td>\n",
       "      <td>2.197623</td>\n",
       "      <td>2.898206</td>\n",
       "      <td>1.302675</td>\n",
       "      <td>240</td>\n",
       "      <td>&lt;0 -1 3&gt;</td>\n",
       "      <td>1.540000e-15</td>\n",
       "    </tr>\n",
       "    <tr>\n",
       "      <th>2</th>\n",
       "      <td>36.869898</td>\n",
       "      <td>4.072935</td>\n",
       "      <td>-4.320000e-16</td>\n",
       "      <td>935.633536</td>\n",
       "      <td>6.439876</td>\n",
       "      <td>4.072935</td>\n",
       "      <td>6.439876</td>\n",
       "      <td>26.229196</td>\n",
       "      <td>5.0</td>\n",
       "      <td>1</td>\n",
       "      <td>1</td>\n",
       "      <td>2.425024</td>\n",
       "      <td>2.880000</td>\n",
       "      <td>1.345812</td>\n",
       "      <td>360</td>\n",
       "      <td>&lt;0 -1 3&gt;</td>\n",
       "      <td>1.540000e-15</td>\n",
       "    </tr>\n",
       "    <tr>\n",
       "      <th>3</th>\n",
       "      <td>36.869898</td>\n",
       "      <td>4.072935</td>\n",
       "      <td>-4.320000e-16</td>\n",
       "      <td>939.860373</td>\n",
       "      <td>6.439876</td>\n",
       "      <td>4.072935</td>\n",
       "      <td>6.439876</td>\n",
       "      <td>26.229196</td>\n",
       "      <td>5.0</td>\n",
       "      <td>1</td>\n",
       "      <td>1</td>\n",
       "      <td>2.408533</td>\n",
       "      <td>2.880000</td>\n",
       "      <td>1.414788</td>\n",
       "      <td>360</td>\n",
       "      <td>&lt;0 -1 3&gt;</td>\n",
       "      <td>1.540000e-15</td>\n",
       "    </tr>\n",
       "    <tr>\n",
       "      <th>4</th>\n",
       "      <td>36.869898</td>\n",
       "      <td>4.072935</td>\n",
       "      <td>-4.320000e-16</td>\n",
       "      <td>872.995523</td>\n",
       "      <td>6.439876</td>\n",
       "      <td>4.072935</td>\n",
       "      <td>6.439876</td>\n",
       "      <td>26.229196</td>\n",
       "      <td>5.0</td>\n",
       "      <td>1</td>\n",
       "      <td>1</td>\n",
       "      <td>2.405609</td>\n",
       "      <td>2.880000</td>\n",
       "      <td>1.506055</td>\n",
       "      <td>360</td>\n",
       "      <td>&lt;0 -1 3&gt;</td>\n",
       "      <td>1.540000e-15</td>\n",
       "    </tr>\n",
       "  </tbody>\n",
       "</table>\n",
       "</div>"
      ],
      "text/plain": [
       "                            misorientation         4             5  \\\n",
       "element axis gbindex index                                           \n",
       "Ag      100  1       0           36.869898  4.072935 -4.320000e-16   \n",
       "                     1           36.869898  4.072935 -4.320000e-16   \n",
       "                     2           36.869898  4.072935 -4.320000e-16   \n",
       "                     3           36.869898  4.072935 -4.320000e-16   \n",
       "                     4           36.869898  4.072935 -4.320000e-16   \n",
       "\n",
       "                                energy         7         8         9  \\\n",
       "element axis gbindex index                                             \n",
       "Ag      100  1       0      932.215040  6.439876  4.072935  6.439876   \n",
       "                     1      933.064724  6.439876  4.072935  6.439876   \n",
       "                     2      935.633536  6.439876  4.072935  6.439876   \n",
       "                     3      939.860373  6.439876  4.072935  6.439876   \n",
       "                     4      872.995523  6.439876  4.072935  6.439876   \n",
       "\n",
       "                                   10   11  12  13        14        15  \\\n",
       "element axis gbindex index                                               \n",
       "Ag      100  1       0      26.229196  5.0   1   1  1.931963  2.880000   \n",
       "                     1      26.229196  5.0   1   1  2.197623  2.898206   \n",
       "                     2      26.229196  5.0   1   1  2.425024  2.880000   \n",
       "                     3      26.229196  5.0   1   1  2.408533  2.880000   \n",
       "                     4      26.229196  5.0   1   1  2.405609  2.880000   \n",
       "\n",
       "                                  16   17         2             6  \n",
       "element axis gbindex index                                         \n",
       "Ag      100  1       0      1.287975  240  <0 -1 3>  1.540000e-15  \n",
       "                     1      1.302675  240  <0 -1 3>  1.540000e-15  \n",
       "                     2      1.345812  360  <0 -1 3>  1.540000e-15  \n",
       "                     3      1.414788  360  <0 -1 3>  1.540000e-15  \n",
       "                     4      1.506055  360  <0 -1 3>  1.540000e-15  "
      ]
     },
     "execution_count": 135,
     "metadata": {},
     "output_type": "execute_result"
    }
   ],
   "source": [
    "df_dash = df_dash.rename(columns={df_data.columns[0]: 'misorientation'})\n",
    "df_dash.head()"
   ]
  },
  {
   "cell_type": "code",
   "execution_count": 147,
   "metadata": {},
   "outputs": [
    {
     "name": "stdout",
     "output_type": "stream",
     "text": [
      "28\n"
     ]
    },
    {
     "data": {
      "image/png": "[encoded data removed]",
      "text/plain": [
       "<Figure size 432x288 with 1 Axes>"
      ]
     },
     "metadata": {
      "needs_background": "light"
     },
     "output_type": "display_data"
    },
    {
     "name": "stdout",
     "output_type": "stream",
     "text": [
      "38\n"
     ]
    },
    {
     "data": {
      "image/png": "[encoded data removed]",
      "text/plain": [
       "<Figure size 432x288 with 1 Axes>"
      ]
     },
     "metadata": {
      "needs_background": "light"
     },
     "output_type": "display_data"
    },
    {
     "name": "stdout",
     "output_type": "stream",
     "text": [
      "36\n"
     ]
    },
    {
     "data": {
      "image/png": "[encoded data removed]",
      "text/plain": [
       "<Figure size 432x288 with 1 Axes>"
      ]
     },
     "metadata": {
      "needs_background": "light"
     },
     "output_type": "display_data"
    },
    {
     "name": "stdout",
     "output_type": "stream",
     "text": [
      "28\n"
     ]
    },
    {
     "data": {
      "image/png": "[encoded data removed]",
      "text/plain": [
       "<Figure size 432x288 with 1 Axes>"
      ]
     },
     "metadata": {
      "needs_background": "light"
     },
     "output_type": "display_data"
    },
    {
     "name": "stdout",
     "output_type": "stream",
     "text": [
      "38\n"
     ]
    },
    {
     "data": {
      "image/png": "[encoded data removed]",
      "text/plain": [
       "<Figure size 432x288 with 1 Axes>"
      ]
     },
     "metadata": {
      "needs_background": "light"
     },
     "output_type": "display_data"
    },
    {
     "name": "stdout",
     "output_type": "stream",
     "text": [
      "36\n"
     ]
    },
    {
     "data": {
      "image/png": "[encoded data removed]",
      "text/plain": [
       "<Figure size 432x288 with 1 Axes>"
      ]
     },
     "metadata": {
      "needs_background": "light"
     },
     "output_type": "display_data"
    },
    {
     "name": "stdout",
     "output_type": "stream",
     "text": [
      "28\n"
     ]
    },
    {
     "data": {
      "image/png": "[encoded data removed]",
      "text/plain": [
       "<Figure size 432x288 with 1 Axes>"
      ]
     },
     "metadata": {
      "needs_background": "light"
     },
     "output_type": "display_data"
    },
    {
     "name": "stdout",
     "output_type": "stream",
     "text": [
      "38\n"
     ]
    },
    {
     "data": {
      "image/png": "[encoded data removed]",
      "text/plain": [
       "<Figure size 432x288 with 1 Axes>"
      ]
     },
     "metadata": {
      "needs_background": "light"
     },
     "output_type": "display_data"
    },
    {
     "name": "stdout",
     "output_type": "stream",
     "text": [
      "36\n"
     ]
    },
    {
     "data": {
      "image/png": "[encoded data removed]",
      "text/plain": [
       "<Figure size 432x288 with 1 Axes>"
      ]
     },
     "metadata": {
      "needs_background": "light"
     },
     "output_type": "display_data"
    }
   ],
   "source": [
    "\n",
    "def make_gbe_graph(df_dash):\n",
    "    for name_i, group_i in df_dash.groupby('element'):\n",
    "        for name_j, group_j in group_i.groupby('axis'):\n",
    "            emin_list = []\n",
    "            misorientation_list = []\n",
    "            for name_k, group_k in group_j.groupby('gbindex'):\n",
    "                emin_list.append(group_k['energy'].values.min())\n",
    "                misorientation_list.append(group_k['misorientation'].unique())\n",
    "            print(len(misorientation_list))\n",
    "            plt.scatter(misorientation_list,emin_list)\n",
    "            plt.title(f'{name_i}{name_j}')\n",
    "            plt.savefig(f'{name_i}{name_j}.pdf')\n",
    "            plt.ylim(0,1000)\n",
    "            plt.show()\n",
    "make_gbe_graph(df_dash)"
   ]
  },
  {
   "cell_type": "code",
   "execution_count": 136,
   "metadata": {},
   "outputs": [],
   "source": [
    "import matplotlib.pyplot as plt"
   ]
  },
  {
   "cell_type": "code",
   "execution_count": 83,
   "metadata": {},
   "outputs": [
    {
     "data": {
      "text/plain": [
       "'C:\\\\Users\\\\hatayuki\\\\OneDrive - The University of Tokyo\\\\now_using\\\\210909'"
      ]
     },
     "execution_count": 83,
     "metadata": {},
     "output_type": "execute_result"
    }
   ],
   "source": [
    "os.getcwd()"
   ]
  },
  {
   "cell_type": "code",
   "execution_count": 63,
   "metadata": {},
   "outputs": [],
   "source": [
    "os.chdir(basedir)"
   ]
  },
  {
   "cell_type": "code",
   "execution_count": 41,
   "metadata": {},
   "outputs": [
    {
     "name": "stdout",
     "output_type": "stream",
     "text": [
      "[['001']\n",
      " ['002']\n",
      " ['003']\n",
      " ['004']\n",
      " ['005']\n",
      " ['006']\n",
      " ['007']\n",
      " ['008']\n",
      " ['009']\n",
      " ['010']\n",
      " ['011']\n",
      " ['012']]\n"
     ]
    }
   ],
   "source": [
    "#1～gbnumまでのindexを作成する関数\n",
    "gbnum = 12\n",
    "vector = np.arange(1,gbnum+1) \n",
    "vector = np.array([vector], dtype = int).T\n",
    "vector = np.array(vector, dtype = str)\n",
    "for i in range(len(vector)):\n",
    "    vector[i][0] = vector[i][0].zfill(3)\n",
    "print(vector)"
   ]
  },
  {
   "cell_type": "code",
   "execution_count": 28,
   "metadata": {},
   "outputs": [],
   "source": []
  },
  {
   "cell_type": "code",
   "execution_count": 29,
   "metadata": {},
   "outputs": [],
   "source": []
  },
  {
   "cell_type": "code",
   "execution_count": 30,
   "metadata": {},
   "outputs": [
    {
     "data": {
      "text/plain": [
       "array(['001', '002', '003', '004', '005', '006', '007', '008', '009',\n",
       "       '010', '011', '012'], dtype='<U11')"
      ]
     },
     "execution_count": 30,
     "metadata": {},
     "output_type": "execute_result"
    }
   ],
   "source": [
    "vector"
   ]
  },
  {
   "cell_type": "code",
   "execution_count": 21,
   "metadata": {},
   "outputs": [
    {
     "data": {
      "text/plain": [
       "'001'"
      ]
     },
     "execution_count": 21,
     "metadata": {},
     "output_type": "execute_result"
    }
   ],
   "source": [
    "vector[0].zfill(3)"
   ]
  },
  {
   "cell_type": "code",
   "execution_count": null,
   "metadata": {},
   "outputs": [],
   "source": []
  }
 ],
 "metadata": {
  "kernelspec": {
   "display_name": "Python 3",
   "language": "python",
   "name": "python3"
  },
  "language_info": {
   "codemirror_mode": {
    "name": "ipython",
    "version": 3
   },
   "file_extension": ".py",
   "mimetype": "text/x-python",
   "name": "python",
   "nbconvert_exporter": "python",
   "pygments_lexer": "ipython3",
   "version": "3.8.5"
  }
 },
 "nbformat": 4,
 "nbformat_minor": 5
}
