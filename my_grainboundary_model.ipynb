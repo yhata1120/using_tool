{
 "cells": [
  {
   "cell_type": "code",
   "execution_count": 1,
   "metadata": {},
   "outputs": [],
   "source": [
    "import numpy  as np\n",
    "import math\n",
    "import os\n"
   ]
  },
  {
   "cell_type": "code",
   "execution_count": 99,
   "metadata": {},
   "outputs": [],
   "source": [
    "def read_final(filename):\n",
    "    with open (filename) as f:\n",
    "        lines = f.readlines()\n",
    "    atoms = np.array([0,0,0,0,0])\n",
    "    for i in range(9,len(lines)):\n",
    "        atoms = np.vstack((atoms,np.array(lines[i].split(),dtype = float)))\n",
    "    atoms = np.delete(atoms,0,axis = 0)\n",
    "    atoms = np.delete(atoms,[0,1],1)\n",
    "    a = float(lines[5].split()[1])\n",
    "    b = float(lines[6].split()[1])\n",
    "    c = float(lines[7].split()[1])\n",
    "    return atoms"
   ]
  },
  {
   "cell_type": "code",
   "execution_count": 107,
   "metadata": {},
   "outputs": [],
   "source": [
    "def read_atominfile(filename):\n",
    "    #read atom positions from POSCAR\n",
    "    with open (f\"{filename}\",'r') as f:\n",
    "        lines = f.readlines()\n",
    "    atoms = np.array([0,0,0,0,0])\n",
    "    for i in range(14,len(lines)):\n",
    "        atoms = np.vstack((atoms,np.array(lines[i].split(),dtype = float)))\n",
    "    atoms = np.delete(atoms,0,axis= 0)\n",
    "    atoms = np.delete(atoms, [0], 1)\n",
    "    a = float(lines[6].split()[1])\n",
    "    b = float(lines[7].split()[1])\n",
    "    c = float(lines[8].split()[1])\n",
    "    return a, b, c, atoms"
   ]
  },
  {
   "cell_type": "code",
   "execution_count": 64,
   "metadata": {},
   "outputs": [],
   "source": [
    "a, b, c, atoms_nocenter = read_atomin_id(\"530_nocenter\")"
   ]
  },
  {
   "cell_type": "code",
   "execution_count": 66,
   "metadata": {},
   "outputs": [],
   "source": [
    "a, b, c, atoms_center = read_atomin_id(\"530_center\")"
   ]
  },
  {
   "cell_type": "code",
   "execution_count": 68,
   "metadata": {},
   "outputs": [],
   "source": [
    "tol = 1e-5"
   ]
  },
  {
   "cell_type": "code",
   "execution_count": 69,
   "metadata": {},
   "outputs": [],
   "source": [
    "center = 105.54022915"
   ]
  },
  {
   "cell_type": "code",
   "execution_count": 76,
   "metadata": {},
   "outputs": [],
   "source": [
    "atoms_c = atoms_center[(atoms_center[:,1]>center-tol) & (atoms_center[:,1]<center+tol)]"
   ]
  },
  {
   "cell_type": "code",
   "execution_count": 77,
   "metadata": {},
   "outputs": [],
   "source": [
    "atoms_need_modify = atoms_center[(atoms_center[:,1]<center-tol) | (atoms_center[:,1]>center+tol)]"
   ]
  },
  {
   "cell_type": "code",
   "execution_count": 79,
   "metadata": {},
   "outputs": [],
   "source": [
    "atoms_need_modify[:,1] = center"
   ]
  },
  {
   "cell_type": "code",
   "execution_count": 80,
   "metadata": {
    "scrolled": false
   },
   "outputs": [],
   "source": [
    "reduced_atoms = np.unique(atoms_need_modify,axis=0)"
   ]
  },
  {
   "cell_type": "code",
   "execution_count": 82,
   "metadata": {
    "scrolled": true
   },
   "outputs": [
    {
     "data": {
      "text/plain": [
       "12"
      ]
     },
     "execution_count": 82,
     "metadata": {},
     "output_type": "execute_result"
    }
   ],
   "source": [
    "len(reduced_atoms)"
   ]
  },
  {
   "cell_type": "code",
   "execution_count": 83,
   "metadata": {},
   "outputs": [],
   "source": [
    "atoms_newcenter = np.vstack((atoms_c,reduced_atoms))"
   ]
  },
  {
   "cell_type": "code",
   "execution_count": 85,
   "metadata": {},
   "outputs": [],
   "source": [
    "atoms_final = np.vstack((atoms_nocenter,atoms_newcenter))"
   ]
  },
  {
   "cell_type": "code",
   "execution_count": 63,
   "metadata": {},
   "outputs": [],
   "source": [
    "def read_atomin_id(filename):\n",
    "    #read atom positions from POSCAR\n",
    "    with open (f\"{filename}\",'r') as f:\n",
    "        lines = f.readlines()\n",
    "    atoms = np.array([0,0,0,0,0])\n",
    "    for i in range(13,len(lines)):\n",
    "        atoms = np.vstack((atoms,np.array(lines[i].split(),dtype = float)))\n",
    "    atoms = np.delete(atoms,0,axis= 0)\n",
    "    atoms = np.delete(atoms,[0],1)\n",
    "    a = float(lines[5].split()[1])\n",
    "    b = float(lines[6].split()[1])\n",
    "    c = float(lines[7].split()[1])\n",
    "    return a, b, c, atoms"
   ]
  },
  {
   "cell_type": "code",
   "execution_count": 160,
   "metadata": {},
   "outputs": [],
   "source": [
    "def Write_to_lammps(a,b,c,supercell_atoms,filename):\n",
    "    dim = np.array([1,1,1])\n",
    "    X = supercell_atoms.copy()\n",
    "\n",
    "    NumberAt = len(X) \n",
    "\n",
    "    dimx, dimy, dimz = dim\n",
    "\n",
    "    xlo = 0.00000000\n",
    "    xhi = a\n",
    "    ylo = 0.00000000\n",
    "    yhi = b \n",
    "    zlo = 0.00000000\n",
    "    zhi = c\n",
    "\n",
    "    yz = 0.0\n",
    "\n",
    "    Counter = np.arange(1, NumberAt + 1).reshape(1, -1)\n",
    "\n",
    "    # data = np.concatenate((X_new, Y_new))\n",
    "    FinalMat = np.concatenate((Counter.T, X), axis=1)\n",
    "\n",
    "    with open(filename, 'w') as f:\n",
    "        f.write('#Header \\n \\n')\n",
    "        f.write('{} atoms \\n \\n'.format(NumberAt))\n",
    "        f.write('2 atom types \\n \\n')\n",
    "        f.write('{0:.8f} {1:.8f} xlo xhi \\n'.format(xlo, xhi))\n",
    "        f.write('{0:.8f} {1:.8f} ylo yhi \\n'.format(ylo, yhi))\n",
    "        f.write('{0:.8f} {1:.8f} zlo zhi \\n\\n'.format(zlo, zhi))\n",
    "        f.write('{0:.8f} {1:.8f} {2:.8f} xy xz yz \\n\\n'.format(0, 0, yz))            \n",
    "        f.write('Atoms \\n \\n')\n",
    "        np.savetxt(f, FinalMat, fmt='%i %i %.8f %.8f %.8f')\n",
    "    f.close()"
   ]
  },
  {
   "cell_type": "code",
   "execution_count": 198,
   "metadata": {},
   "outputs": [],
   "source": [
    "def wrap_at_priodic_boundary_condition(b,c,atoms):\n",
    "    tol = 0.01\n",
    "    atoms[:, 2:4] = np.round(atoms[:,2:4],5)\n",
    "    atoms[np.where(atoms[:,2] >(np.round(b,5)-tol)),2] = atoms[np.where(atoms[:,2] >(np.round(b,5)-tol)),2] - np.round(b,5)\n",
    "    atoms[np.where(atoms[:,3] >(np.round(c,5)-tol)),3] = atoms[np.where(atoms[:,3] >(np.round(c,5)-tol)),3] - np.round(c,5)\n",
    "    return atoms"
   ]
  },
  {
   "cell_type": "code",
   "execution_count": 326,
   "metadata": {},
   "outputs": [],
   "source": [
    "a, b, c, atoms = read_atominfile(\"atominfile2\")"
   ]
  },
  {
   "cell_type": "code",
   "execution_count": 327,
   "metadata": {},
   "outputs": [],
   "source": [
    "atoms_pbc = wrap_at_priodic_boundary_condition(b,c,atoms)"
   ]
  },
  {
   "cell_type": "code",
   "execution_count": 277,
   "metadata": {},
   "outputs": [],
   "source": [
    "Write_to_lammps(a,b,c,atoms_pbc,\"atominfile\")"
   ]
  },
  {
   "cell_type": "code",
   "execution_count": null,
   "metadata": {},
   "outputs": [],
   "source": []
  },
  {
   "cell_type": "code",
   "execution_count": null,
   "metadata": {},
   "outputs": [],
   "source": [
    "gbname = \"520\"\n",
    "if float(gbname[1])/float(gbname[0]) < 1/2:\n",
    "    print(\"this is under 210\")\n",
    "else:\n",
    "    print(\"this is over 210\")"
   ]
  },
  {
   "cell_type": "markdown",
   "metadata": {},
   "source": [
    "ここからが210よりも低角の粒界の凹凸を得るためのコード"
   ]
  },
  {
   "cell_type": "code",
   "execution_count": 328,
   "metadata": {},
   "outputs": [],
   "source": [
    "gbname = \"830\"\n",
    "center = a/2\n",
    "tol = 1e-5\n",
    "lattice_constant = 3.61999999500576"
   ]
  },
  {
   "cell_type": "code",
   "execution_count": 329,
   "metadata": {},
   "outputs": [],
   "source": [
    "atoms_need_modify = atoms_pbc[(atoms_pbc[:,1]>(center + tol- (lattice_constant/2)*np.sin(np.arctan(float(gbname[1])/float(gbname[0]))))) & (atoms_pbc[:,1]<(center - tol + (lattice_constant/2)*np.sin(np.arctan(float(gbname[1])/float(gbname[0])))))]"
   ]
  },
  {
   "cell_type": "code",
   "execution_count": 330,
   "metadata": {},
   "outputs": [],
   "source": [
    "atoms_need_modify[:,1] = center"
   ]
  },
  {
   "cell_type": "code",
   "execution_count": 331,
   "metadata": {},
   "outputs": [],
   "source": [
    "reduced_atoms = np.unique(atoms_need_modify,axis=0)"
   ]
  },
  {
   "cell_type": "code",
   "execution_count": 332,
   "metadata": {},
   "outputs": [],
   "source": [
    "atoms_nocenter = atoms_pbc[(atoms_pbc[:,1]<=(center + tol-(lattice_constant/2)*np.sin(np.arctan(float(gbname[1])/float(gbname[0]))))) | (atoms_pbc[:,1]>=(center - tol + (lattice_constant/2)*np.sin(np.arctan(float(gbname[1])/float(gbname[0])))))]"
   ]
  },
  {
   "cell_type": "code",
   "execution_count": 333,
   "metadata": {},
   "outputs": [],
   "source": [
    "atoms_final = np.vstack((atoms_nocenter,reduced_atoms))"
   ]
  },
  {
   "cell_type": "code",
   "execution_count": 334,
   "metadata": {},
   "outputs": [],
   "source": [
    "Write_to_lammps(a,b,c,atoms_final,\"atominfile\")"
   ]
  },
  {
   "cell_type": "markdown",
   "metadata": {},
   "source": [
    "ここから210よりも高角の粒界の凹凸を得るためのコード"
   ]
  },
  {
   "cell_type": "code",
   "execution_count": 430,
   "metadata": {},
   "outputs": [],
   "source": [
    "a, b, c, atoms = read_atominfile(\"atominfile2\")"
   ]
  },
  {
   "cell_type": "code",
   "execution_count": 431,
   "metadata": {},
   "outputs": [],
   "source": [
    "atoms_pbc = wrap_at_priodic_boundary_condition(b,c,atoms)"
   ]
  },
  {
   "cell_type": "code",
   "execution_count": 432,
   "metadata": {},
   "outputs": [],
   "source": [
    "gbname = \"950\"\n",
    "center = a/2\n",
    "tol = 1e-3\n",
    "lattice_constant = 3.61999999500576"
   ]
  },
  {
   "cell_type": "code",
   "execution_count": 433,
   "metadata": {},
   "outputs": [],
   "source": [
    "atoms_need_modify = atoms_pbc[(atoms_pbc[:,1]>(center + tol- (lattice_constant/2*np.sqrt(2))*abs(np.sin(np.arctan(float(gbname[0])/float(gbname[1]))-(np.pi/4))))) & (atoms_pbc[:,1]<(center - tol + (lattice_constant/2*np.sqrt(2))*abs(np.sin(np.arctan(float(gbname[0])/float(gbname[1]))-(np.pi/4)))))]"
   ]
  },
  {
   "cell_type": "code",
   "execution_count": 434,
   "metadata": {},
   "outputs": [],
   "source": [
    "atoms_nocenter = atoms_pbc[(atoms_pbc[:,1]<=(center + tol- (lattice_constant/2*np.sqrt(2))*abs(np.sin(np.arctan(float(gbname[0])/float(gbname[1]))-(np.pi/4))))) | (atoms_pbc[:,1]>=(center - tol + (lattice_constant/2*np.sqrt(2))*abs(np.sin(np.arctan(float(gbname[0])/float(gbname[1]))-(np.pi/4)))))]"
   ]
  },
  {
   "cell_type": "code",
   "execution_count": 435,
   "metadata": {},
   "outputs": [],
   "source": [
    "atoms_need_modify[:,1] = center"
   ]
  },
  {
   "cell_type": "code",
   "execution_count": 436,
   "metadata": {},
   "outputs": [],
   "source": [
    "reduced_atoms = np.unique(atoms_need_modify,axis=0)"
   ]
  },
  {
   "cell_type": "code",
   "execution_count": 437,
   "metadata": {},
   "outputs": [],
   "source": [
    "atoms_final = np.vstack((atoms_nocenter,reduced_atoms))"
   ]
  },
  {
   "cell_type": "code",
   "execution_count": 438,
   "metadata": {},
   "outputs": [],
   "source": [
    "Write_to_lammps(a,b,c,atoms_final,\"atominfile\")"
   ]
  },
  {
   "cell_type": "code",
   "execution_count": null,
   "metadata": {},
   "outputs": [],
   "source": []
  },
  {
   "cell_type": "code",
   "execution_count": null,
   "metadata": {},
   "outputs": [],
   "source": []
  },
  {
   "cell_type": "code",
   "execution_count": null,
   "metadata": {},
   "outputs": [],
   "source": []
  },
  {
   "cell_type": "code",
   "execution_count": null,
   "metadata": {},
   "outputs": [],
   "source": []
  }
 ],
 "metadata": {
  "kernelspec": {
   "display_name": "Python 3",
   "language": "python",
   "name": "python3"
  },
  "language_info": {
   "codemirror_mode": {
    "name": "ipython",
    "version": 3
   },
   "file_extension": ".py",
   "mimetype": "text/x-python",
   "name": "python",
   "nbconvert_exporter": "python",
   "pygments_lexer": "ipython3",
   "version": "3.8.5"
  }
 },
 "nbformat": 4,
 "nbformat_minor": 4
}
