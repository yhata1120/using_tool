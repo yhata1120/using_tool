{
 "cells": [
  {
   "cell_type": "code",
   "execution_count": 1,
   "id": "e3658710",
   "metadata": {},
   "outputs": [],
   "source": [
    "import os\n",
    "import shutil\n",
    "import glob\n",
    "import numpy as np\n",
    "import pandas as pd"
   ]
  },
  {
   "cell_type": "code",
   "execution_count": 8,
   "id": "3df560a9",
   "metadata": {},
   "outputs": [
    {
     "name": "stdout",
     "output_type": "stream",
     "text": [
      "C:\\Users\\hatayuki\\OneDrive - The University of Tokyo\\now_using\\210905\\Untitled.ipynb\n",
      "C:\\Users\\hatayuki\\OneDrive - The University of Tokyo\\now_using\\210905\\.ipynb_checkpoints\\Untitled-checkpoint.ipynb\n",
      "C:\\Users\\hatayuki\\OneDrive - The University of Tokyo\\now_using\\210905\\Al\\100\\results.txt\n",
      "C:\\Users\\hatayuki\\OneDrive - The University of Tokyo\\now_using\\210905\\Al\\110\\results.txt\n",
      "C:\\Users\\hatayuki\\OneDrive - The University of Tokyo\\now_using\\210905\\Al\\111\\results.txt\n",
      "C:\\Users\\hatayuki\\OneDrive - The University of Tokyo\\now_using\\210905\\Cu\\100\\results.txt\n",
      "C:\\Users\\hatayuki\\OneDrive - The University of Tokyo\\now_using\\210905\\Cu\\110\\results.txt\n",
      "C:\\Users\\hatayuki\\OneDrive - The University of Tokyo\\now_using\\210905\\Cu\\111\\results.txt\n",
      "C:\\Users\\hatayuki\\OneDrive - The University of Tokyo\\now_using\\210905\\Fe\\100\\results.txt\n",
      "C:\\Users\\hatayuki\\OneDrive - The University of Tokyo\\now_using\\210905\\Fe\\110\\results.txt\n",
      "C:\\Users\\hatayuki\\OneDrive - The University of Tokyo\\now_using\\210905\\Fe\\111\\results.txt\n"
     ]
    }
   ],
   "source": [
    "for curDir, dirs, files in os.walk('.'):\n",
    "    for file in files:\n",
    "        print(os.path.abspath(f'{curDir}/{file}'))"
   ]
  },
  {
   "cell_type": "code",
   "execution_count": 4,
   "id": "fcba4dc1",
   "metadata": {},
   "outputs": [
    {
     "data": {
      "text/plain": [
       "'E:\\\\CNIDs_GB_area_gbnum\\\\fcc'"
      ]
     },
     "execution_count": 4,
     "metadata": {},
     "output_type": "execute_result"
    }
   ],
   "source": [
    "os.chdir('fcc')\n",
    "os.getcwd()"
   ]
  },
  {
   "cell_type": "code",
   "execution_count": 31,
   "id": "b096cd04",
   "metadata": {},
   "outputs": [],
   "source": [
    "# results までのディレクトリを複製する関数(元素のフォルダの親ディレクトリまで移動して実行)\n",
    "basedir = 'C:\\\\Users\\\\hatayuki\\\\OneDrive - The University of Tokyo\\\\now_using\\\\database'\n",
    "for name in glob.glob('./**/*results.txt', recursive=True):\n",
    "#     category = '\\\\'.join(name.split('\\\\')[:-1])\n",
    "#     new_folder = f'new_files\\\\{category}'\n",
    "    gbnum = name.split('_')[-1]\n",
    "    gbnum = gbnum.split('.')[0]\n",
    "    gbnum = gbnum.zfill(3)    \n",
    "    category = '\\\\'.join(name.split('\\\\')[:-2])\n",
    "    new_folder = f'{basedir}\\\\new_files\\\\{category}\\\\{gbnum}'\n",
    "    os.makedirs(new_folder,exist_ok=True)\n",
    "    shutil.copy(f'{name}',f'{new_folder}')"
   ]
  },
  {
   "cell_type": "code",
   "execution_count": 32,
   "id": "7c7246b9",
   "metadata": {},
   "outputs": [],
   "source": [
    "for name in glob.glob('./**/*CNIDs', recursive=True):\n",
    "    category = '\\\\'.join(name.split('\\\\')[:-1])\n",
    "    new_folder = f'{filename}\\\\{category}'\n",
    "    os.makedirs(new_folder,exist_ok=True)\n",
    "    shutil.copy(f'{name}',f'{new_folder}')"
   ]
  },
  {
   "cell_type": "code",
   "execution_count": 33,
   "id": "1ca885df",
   "metadata": {},
   "outputs": [
    {
     "data": {
      "text/plain": [
       "'C:\\\\Users\\\\hatay\\\\OneDrive - The University of Tokyo\\\\now_using'"
      ]
     },
     "execution_count": 33,
     "metadata": {},
     "output_type": "execute_result"
    }
   ],
   "source": [
    "os.chdir('now_using/')\n",
    "os.getcwd()"
   ]
  },
  {
   "cell_type": "code",
   "execution_count": 35,
   "id": "9c0a6291",
   "metadata": {},
   "outputs": [],
   "source": [
    "os.chdir('new_files')"
   ]
  },
  {
   "cell_type": "code",
   "execution_count": 52,
   "id": "7b008057",
   "metadata": {
    "scrolled": true
   },
   "outputs": [
    {
     "name": "stdout",
     "output_type": "stream",
     "text": [
      "[['<0 1 2>' 53.13010235]\n",
      " ['<0 3 1>' 36.86989765]\n",
      " ['<0 2 3>' 67.38013505]\n",
      " ['<0 -1 5>' 22.61986495]\n",
      " ['<0 4 1>' 28.07248694]\n",
      " ['<0 5 -3>' 61.92751306]\n",
      " ['<0 4 -3>' 73.73979529]\n",
      " ['<0 7 1>' 16.26020471]\n",
      " ['<0 5 2>' 43.60281897]\n",
      " ['<0 3 7>' 46.39718103]\n",
      " ['<0 6 1>' 18.92464442]\n",
      " ['<0 7 -5>' 71.07535558]\n",
      " ['<0 4 5>' 77.31961651]\n",
      " ['<0 -1 9>' 12.68038349]\n",
      " ['<0 7 2>' 31.8907918]\n",
      " ['<0 5 9>' 58.1092082]\n",
      " ['<0 6 -5>' 79.61114218]\n",
      " ['<0 11 1>' 10.38885782]\n",
      " ['<0 8 1>' 14.2500327]\n",
      " ['<0 9 -7>' 75.7499673]\n",
      " ['<0 8 3>' 41.11209044]\n",
      " ['<0 5 11>' 48.88790956]\n",
      " ['<0 6 7>' 81.20258929]\n",
      " ['<0 -1 13>' 8.79741071]\n",
      " ['<0 8 -5>' 64.01076642]\n",
      " ['<0 -3 13>' 25.98923358]\n",
      " ['<0 4 9>' 47.92497795]\n",
      " ['<0 -5 13>' 42.07502205]\n",
      " ['<-1 1 1>' 70.52877937]\n",
      " ['<1 -1 2>' 109.4712206]\n",
      " ['<-2 2 1>' 38.94244127]\n",
      " ['<1 -1 4>' 141.0575587]\n",
      " ['<1 -1 3>' 129.5211964]\n",
      " ['<-3 3 2>' 50.47880364]\n",
      " ['<2 -2 3>' 93.37228668]\n",
      " ['<-3 3 4>' 86.62771332]\n",
      " ['<-3 3 1>' 26.52535202]\n",
      " ['<1 -1 6>' 153.474648]\n",
      " ['<1 -1 5>' 148.4136619]\n",
      " ['<-5 5 2>' 31.5863381]\n",
      " ['<-4 4 1>' 20.04997572]\n",
      " ['<1 -1 8>' 159.9500243]\n",
      " ['<-4 4 3>' 55.87670546]\n",
      " ['<3 -3 8>' 124.1232945]\n",
      " ['<3 -3 5>' 99.36891558]\n",
      " ['<-5 5 6>' 80.63108442]\n",
      " ['<-5 5 1>' 16.09893395]\n",
      " ['<1 -1 10>' 163.901066]\n",
      " ['<2 -2 7>' 135.9965727]\n",
      " ['<-7 7 4>' 44.00342735]\n",
      " ['<-5 5 3>' 45.97953555]\n",
      " ['<3 -3 10>' 134.0204645]\n",
      " ['<3 -3 7>' 117.5606031]\n",
      " ['<-7 7 6>' 62.43939689]\n",
      " ['<-6 6 1>' 13.44273868]\n",
      " ['<1 -1 12>' 166.5572613]\n",
      " ['<4 -4 7>' 102.1151175]\n",
      " ['<-7 7 8>' 77.88488254]\n",
      " ['<1 -1 9>' 162.1397163]\n",
      " ['<-9 9 2>' 17.86028367]\n",
      " ['<2 -2 9>' 145.1072953]\n",
      " ['<-9 9 4>' 34.89270467]\n",
      " ['<-6 6 5>' 61.01791773]\n",
      " ['<5 -5 12>' 118.9820823]\n",
      " ['<-7 7 1>' 11.53636237]\n",
      " ['<1 -1 14>' 168.4636376]\n",
      " ['<1 0 -1>' 2.41e-06]\n",
      " ['<2 -1 -1>' 60.0]\n",
      " ['<3 -2 -1>' 38.2132107]\n",
      " ['<5 -1 -4>' 21.7867893]\n",
      " ['<3 1 -4>' 27.7957725]\n",
      " ['<2 5 -7>' 32.2042275]\n",
      " ['<2 -5 3>' 46.82644889]\n",
      " ['<1 7 -8>' 13.17355111]\n",
      " ['<3 -1 -2>' 38.2132107]\n",
      " ['<5 -4 -1>' 21.7867893]\n",
      " ['<5 1 -6>' 17.89655113]\n",
      " ['<4 7 -11>' 42.10344887]\n",
      " ['<3 -7 4>' 50.56999209]\n",
      " ['<1 10 -11>' 9.430007908]\n",
      " ['<4 -1 -3>' 27.7957725]\n",
      " ['<5 2 -7>' 32.2042275]\n",
      " ['<7 -6 -1>' 15.17817894]\n",
      " ['<13 -5 -8>' 44.82182106]\n",
      " ['<8 -5 -3>' 43.5735786]\n",
      " ['<11 -13 2>' 16.4264214]\n",
      " ['<5 -2 -3>' 46.82644889]\n",
      " ['<8 -7 -1>' 13.17355111]\n",
      " ['<5 4 -9>' 52.65900698]\n",
      " ['<14 -1 -13>' 7.340993017]\n",
      " ['<7 2 -9>' 24.43269768]\n",
      " ['<16 -5 -11>' 35.56730232]\n",
      " ['<8 1 -9>' 11.63505129]\n",
      " ['<7 10 -17>' 48.36494871]\n",
      " ['<7 3 -10>' 33.99217611]\n",
      " ['<17 -4 -13>' 26.00782389]\n",
      " ['<9 1 -10>' 10.41743821]\n",
      " ['<8 11 -19>' 49.58256179]\n",
      " ['<6 -1 -5>' 17.89655113]\n",
      " ['<7 4 -11>' 42.10344887]\n",
      " ['<8 3 -11>' 30.5906886]\n",
      " ['<19 -5 -14>' 29.4093114]]\n"
     ]
    }
   ],
   "source": [
    "df = pd.read_csv('bcc_hkl_angle.csv',index_col = 0)\n",
    "bcc_hkl_angle = df.values\n",
    "print(bcc_hkl_angle)"
   ]
  },
  {
   "cell_type": "code",
   "execution_count": 65,
   "id": "4b197966",
   "metadata": {
    "scrolled": true
   },
   "outputs": [],
   "source": [
    "CNIDs_list = np.full(12,0)\n",
    "for name in glob.glob('./**/*CNIDs', recursive=True):\n",
    "    CNIDs = np.loadtxt(os.path.abspath(name))\n",
    "    CNIDs = np.hstack((bcc_hkl_angle, CNIDs))\n",
    "    CNIDs_list = np.vstack((CNIDs_list,CNIDs))\n",
    "    \n",
    "CNIDs_list = np.delete(CNIDs_list,0,axis = 0)"
   ]
  },
  {
   "cell_type": "code",
   "execution_count": null,
   "id": "b6f47785",
   "metadata": {},
   "outputs": [],
   "source": [
    "# Xieのlammpsのファイルを作るときにindexを作っていたからそれを参考に！ "
   ]
  },
  {
   "cell_type": "code",
   "execution_count": 66,
   "id": "6df6b93f",
   "metadata": {
    "scrolled": true
   },
   "outputs": [
    {
     "name": "stdout",
     "output_type": "stream",
     "text": [
      "[['<0 1 2>' 53.13010235 2.8510001608020996 ... 5.0 1.0 1.0]\n",
      " ['<0 3 1>' 36.86989765 2.8510001608021 ... 5.0 1.0 2.0]\n",
      " ['<0 2 3>' 67.38013505 -2.851000160802099 ... 13.0 1.0 1.0]\n",
      " ...\n",
      " ['<7 4 -11>' 42.10344887 -2.4690385654481384 ... 93.0 3.0 2.0]\n",
      " ['<8 3 -11>' 30.5906886 -2.4690385654481384 ... 97.0 3.0 1.0]\n",
      " ['<19 -5 -14>' 29.4093114 -2.4690385654481384 ... 97.0 3.0 2.0]]\n"
     ]
    }
   ],
   "source": [
    "print(CNIDs_list)"
   ]
  },
  {
   "cell_type": "code",
   "execution_count": 6,
   "id": "4070cab4",
   "metadata": {},
   "outputs": [],
   "source": [
    "def make_gb_index(gbnum):\n",
    "    vector = np.arange(1,gbnum+1) \n",
    "    vector = np.array([vector], dtype = int).T\n",
    "    vector = np.array(vector, dtype = str)\n",
    "    for i in range(len(vector)):\n",
    "        vector[i][0] = vector[i][0].zfill(3)\n",
    "    return vector"
   ]
  },
  {
   "cell_type": "code",
   "execution_count": null,
   "id": "958a4084",
   "metadata": {},
   "outputs": [],
   "source": [
    "# bccとfccでbcc_hkl_angleとfcc_hkl_angleで分ける\n",
    "df = pd.read_csv('bcc_hkl_angle.csv', index_col= 0)\n",
    "hkl_angle = df.values"
   ]
  },
  {
   "cell_type": "code",
   "execution_count": 91,
   "id": "65450341",
   "metadata": {},
   "outputs": [],
   "source": [
    "# bcc_CNIDs_listとfcc_CNIDs_list\n",
    "CNIDs_list = np.full(18,0)\n",
    "for name in glob.glob('./**/*CNIDs', recursive=True):\n",
    "    # この書き方でCNIDsがあるファイルの前までのカテゴリ分けできる\n",
    "    # ただし、この場合だとcategory_listの要素数が一つ減る\n",
    "    category_list = name.split('\\\\')[1:-1]\n",
    "    CNIDs = np.loadtxt(os.path.abspath(name))\n",
    "    gb_index = make_gb_index(len(CNIDs))\n",
    "    CNIDs = np.hstack((bcc_hkl_angle, CNIDs))\n",
    "    CNIDs = np.hstack((gb_index,CNIDs))\n",
    "    category_list = np.tile(category_list,(len(CNIDs),1))\n",
    "    CNIDs = np.hstack((category_list,CNIDs))\n",
    "    CNIDs = np.hstack((CNIDs,hkl_angle))\n",
    "#    print(CNIDs)\n",
    "    CNIDs_list = np.vstack((CNIDs_list,CNIDs))\n",
    "\n",
    "CNIDs_list = np.delete(CNIDs_list,0,axis = 0)"
   ]
  },
  {
   "cell_type": "code",
   "execution_count": 135,
   "id": "18b37b0a",
   "metadata": {},
   "outputs": [
    {
     "name": "stdout",
     "output_type": "stream",
     "text": [
      "[['Al' '100' '001' ... 5.0 1.0 1.0]\n",
      " ['Al' '100' '001' ... 5.0 1.0 2.0]\n",
      " ['Al' '100' '001' ... 13.0 1.0 1.0]\n",
      " ...\n",
      " ['Fe' '111' '009' ... 93.0 3.0 2.0]\n",
      " ['Fe' '111' '009' ... 97.0 3.0 1.0]\n",
      " ['Fe' '111' '009' ... 97.0 3.0 2.0]]\n"
     ]
    }
   ],
   "source": [
    "firstLoop = True\n",
    "for name in glob.glob('./**/*CNIDs', recursive=True):\n",
    "    category_list = name.split('\\\\')[1:-1]\n",
    "    CNIDs = np.loadtxt(os.path.abspath(name))\n",
    "    gb_index = make_gb_index(len(CNIDs))\n",
    "    CNIDs = np.hstack((bcc_hkl_angle, CNIDs))\n",
    "    CNIDs = np.hstack((gb_index,CNIDs))\n",
    "    category_list = np.tile(category_list,(len(CNIDs),1))\n",
    "    CNIDs = np.hstack((category_list,CNIDs))\n",
    "#     CNIDs = np.hstack((CNIDs,hkl_angle))\n",
    "    if firstLoop:\n",
    "        CNIDs_list = CNIDs\n",
    "        firstLoop = False\n",
    "    else:\n",
    "        CNIDs_list = np.vstack((CNIDs_list,CNIDs))\n",
    "print(CNIDs_list)"
   ]
  },
  {
   "cell_type": "code",
   "execution_count": 19,
   "id": "ce32ba30",
   "metadata": {},
   "outputs": [
    {
     "data": {
      "text/plain": [
       "'H:\\\\CNIDs_GB_area'"
      ]
     },
     "execution_count": 19,
     "metadata": {},
     "output_type": "execute_result"
    }
   ],
   "source": [
    "os.chdir('..')\n",
    "os.getcwd()"
   ]
  },
  {
   "cell_type": "code",
   "execution_count": 186,
   "id": "03e7f6ce",
   "metadata": {},
   "outputs": [
    {
     "data": {
      "text/plain": [
       "'C:\\\\Users\\\\hatayuki\\\\OneDrive - The University of Tokyo\\\\now_using\\\\database'"
      ]
     },
     "execution_count": 186,
     "metadata": {},
     "output_type": "execute_result"
    }
   ],
   "source": [
    "os.chdir('database/')\n",
    "os.getcwd()"
   ]
  },
  {
   "cell_type": "code",
   "execution_count": 28,
   "id": "48014f59",
   "metadata": {},
   "outputs": [
    {
     "name": "stdout",
     "output_type": "stream",
     "text": [
      "                         hkl_name  misorientation  cnidv1y       cnidv1z  \\\n",
      "element axis gbindex                                                       \n",
      "Fe      100  1            <0 1 2>       53.130102    2.851  2.750000e-17   \n",
      "             2            <0 3 1>       36.869898    2.851 -6.010000e-16   \n",
      "             3            <0 2 3>       67.380135   -2.851 -3.160000e-16   \n",
      "             4           <0 -1 5>       22.619865    2.851  1.240000e-16   \n",
      "             5            <0 4 1>       28.072487    2.851  7.070000e-16   \n",
      "...                           ...             ...      ...           ...   \n",
      "W       111  90       <17 -4 -13>       26.007824   -2.740  1.730000e-16   \n",
      "             91         <9 1 -10>       10.417438   -2.740  3.860000e-16   \n",
      "             92        <8 11 -19>       49.582562    2.740  3.550000e-16   \n",
      "             93         <8 3 -11>       30.590689   -2.740  3.120000e-16   \n",
      "             94       <19 -5 -14>       29.409311   -2.740  1.630000e-16   \n",
      "\n",
      "                           cnidv2y    cnidv2z  cnidl1     cnidl2   cnid_area  \\\n",
      "element axis gbindex                                                           \n",
      "Fe      100  1        3.310000e-17   6.375030   2.851   6.375030   18.175212   \n",
      "             2       -1.425500e+00  -4.507827   2.851   4.727849   12.851816   \n",
      "             3       -6.620000e-17 -10.279427   2.851  10.279427   29.306649   \n",
      "             4       -1.425500e+00  -7.268653   2.851   7.407116   20.722930   \n",
      "             5       -8.880000e-16  11.754975   2.851  11.754975   33.513435   \n",
      "...                            ...        ...     ...        ...         ...   \n",
      "W       111  90      -2.230000e-15  39.769348   2.740  39.769348  108.968014   \n",
      "             91      -9.133333e-01 -24.643081   2.740  24.660000   67.522041   \n",
      "             92      -2.930000e-15 -42.683068   2.740  42.683068  116.951605   \n",
      "             93       9.133333e-01  25.442523   2.740  25.458911   69.712512   \n",
      "             94       3.240000e-15  44.067742   2.740  44.067742  120.745612   \n",
      "\n",
      "                      sigma  axisnum  ab_num      gb_area  num_aroundgb  \n",
      "element axis gbindex                                                     \n",
      "Fe      100  1            5        1       1   581.606785           416  \n",
      "             2            5        1       2   616.887152           432  \n",
      "             3           13        1       1   468.906381           336  \n",
      "             4           13        1       2   663.133763           480  \n",
      "             5           17        1       1   536.214961           368  \n",
      "...                     ...      ...     ...          ...           ...  \n",
      "W       111  90          79        3       2   871.744115           488  \n",
      "             91          91        3       1  1620.528981           936  \n",
      "             92          91        3       2   935.612843           536  \n",
      "             93          97        3       1  1673.100285           936  \n",
      "             94          97        3       2   965.964900           552  \n",
      "\n",
      "[564 rows x 14 columns]\n"
     ]
    }
   ],
   "source": [
    "df_1 = pd.read_csv('bcc_cnid_list.csv',header = 0,index_col = 0)\n",
    "df_1 = df_1.set_index(['element','axis','gbindex'])\n",
    "print(df_1)"
   ]
  },
  {
   "cell_type": "code",
   "execution_count": 29,
   "id": "d22e39a5",
   "metadata": {},
   "outputs": [
    {
     "name": "stdout",
     "output_type": "stream",
     "text": [
      "                         hkl_name  misorientation   cnidv1y       cnidv1z  \\\n",
      "element axis gbindex                                                        \n",
      "Ag      100  1           <0 -1 3>       36.869898  4.072935 -4.320000e-16   \n",
      "             2           <0 -2 1>       53.130102 -4.072935  2.090000e-16   \n",
      "             3          <0 -5 -1>       22.619865 -4.072935  1.660000e-15   \n",
      "             4           <0 -3 2>       67.380135 -4.072935 -2.460000e-16   \n",
      "             5          <0 -3 -5>       61.927513  4.072935 -8.170000e-17   \n",
      "...                           ...             ...       ...           ...   \n",
      "Pt      111  90       <-4 -13 17>       26.007824  6.785087  4.680000e-16   \n",
      "             91         <1 -10 9>       10.417438  6.785087  8.700000e-17   \n",
      "             92       <-8 -11 19>       49.582562 -6.785087  9.300000e-15   \n",
      "             93        <-8 -3 11>       30.590689  6.785087 -5.440000e-16   \n",
      "             94       <-5 -14 19>       29.409311  6.785087 -4.880000e-15   \n",
      "\n",
      "                           cnidv2y    cnidv2z    cnidl1     cnidl2  \\\n",
      "element axis gbindex                                                 \n",
      "Ag      100  1        1.540000e-15   6.439876  4.072935   6.439876   \n",
      "             2       -2.036468e+00  -4.553680  4.072935   4.988306   \n",
      "             3       -1.150000e-15 -10.383988  4.072935  10.383988   \n",
      "             4        2.036468e+00   7.342588  4.072935   7.619764   \n",
      "             5        1.050000e-14  11.874544  4.072935  11.874544   \n",
      "...                            ...        ...       ...        ...   \n",
      "Pt      111  90       1.350000e-15  24.620298  6.785087  24.620298   \n",
      "             91      -2.261696e+00 -15.255970  6.785087  15.422707   \n",
      "             92      -2.030000e-15 -26.424116  6.785087  26.424116   \n",
      "             93       2.261696e+00 -15.750887  6.785087  15.912438   \n",
      "             94      -1.860000e-14  27.281336  6.785087  27.281336   \n",
      "\n",
      "                       cnid_area  sigma  axisnum  ab_num     gb_area  \\\n",
      "element axis gbindex                                                   \n",
      "Ag      100  1         26.229196      5        1       1  524.583912   \n",
      "             2         18.546842      5        1       2  556.405263   \n",
      "             3         42.293307     13        1       1  422.933071   \n",
      "             4         29.905884     13        1       2  598.117685   \n",
      "             5         48.364247     17        1       1  483.642470   \n",
      "...                          ...    ...      ...     ...         ...   \n",
      "Pt      111  90       167.050857     79        3       2  501.152570   \n",
      "             91       103.513080     91        3       1  931.617718   \n",
      "             92       179.289913     91        3       2  537.869740   \n",
      "             93       106.871130     97        3       1  961.840169   \n",
      "             94       185.106227     97        3       2  555.318680   \n",
      "\n",
      "                      num_aroundgb  \n",
      "element axis gbindex                \n",
      "Ag      100  1                 340  \n",
      "             2                 390  \n",
      "             3                 290  \n",
      "             4                 420  \n",
      "             5                 330  \n",
      "...                            ...  \n",
      "Pt      111  90                369  \n",
      "             91                693  \n",
      "             92                399  \n",
      "             93                711  \n",
      "             94                411  \n",
      "\n",
      "[752 rows x 14 columns]\n"
     ]
    }
   ],
   "source": [
    "df_2 = pd.read_csv('fcc_cnid_list.csv',header = 0,index_col = 0)\n",
    "df_2 = df_2.set_index(['element','axis','gbindex'])\n",
    "print(df_2)"
   ]
  },
  {
   "cell_type": "code",
   "execution_count": 30,
   "id": "a851b4f9",
   "metadata": {},
   "outputs": [
    {
     "name": "stdout",
     "output_type": "stream",
     "text": [
      "                         hkl_name  misorientation   cnidv1y       cnidv1z  \\\n",
      "element axis gbindex                                                        \n",
      "Fe      100  1            <0 1 2>       53.130102  2.851000  2.750000e-17   \n",
      "             2            <0 3 1>       36.869898  2.851000 -6.010000e-16   \n",
      "             3            <0 2 3>       67.380135 -2.851000 -3.160000e-16   \n",
      "             4           <0 -1 5>       22.619865  2.851000  1.240000e-16   \n",
      "             5            <0 4 1>       28.072487  2.851000  7.070000e-16   \n",
      "...                           ...             ...       ...           ...   \n",
      "Pt      111  90       <-4 -13 17>       26.007824  6.785087  4.680000e-16   \n",
      "             91         <1 -10 9>       10.417438  6.785087  8.700000e-17   \n",
      "             92       <-8 -11 19>       49.582562 -6.785087  9.300000e-15   \n",
      "             93        <-8 -3 11>       30.590689  6.785087 -5.440000e-16   \n",
      "             94       <-5 -14 19>       29.409311  6.785087 -4.880000e-15   \n",
      "\n",
      "                           cnidv2y    cnidv2z    cnidl1     cnidl2  \\\n",
      "element axis gbindex                                                 \n",
      "Fe      100  1        3.310000e-17   6.375030  2.851000   6.375030   \n",
      "             2       -1.425500e+00  -4.507827  2.851000   4.727849   \n",
      "             3       -6.620000e-17 -10.279427  2.851000  10.279427   \n",
      "             4       -1.425500e+00  -7.268653  2.851000   7.407116   \n",
      "             5       -8.880000e-16  11.754975  2.851000  11.754975   \n",
      "...                            ...        ...       ...        ...   \n",
      "Pt      111  90       1.350000e-15  24.620298  6.785087  24.620298   \n",
      "             91      -2.261696e+00 -15.255970  6.785087  15.422707   \n",
      "             92      -2.030000e-15 -26.424116  6.785087  26.424116   \n",
      "             93       2.261696e+00 -15.750887  6.785087  15.912438   \n",
      "             94      -1.860000e-14  27.281336  6.785087  27.281336   \n",
      "\n",
      "                       cnid_area  sigma  axisnum  ab_num     gb_area  \\\n",
      "element axis gbindex                                                   \n",
      "Fe      100  1         18.175212      5        1       1  581.606785   \n",
      "             2         12.851816      5        1       2  616.887152   \n",
      "             3         29.306649     13        1       1  468.906381   \n",
      "             4         20.722930     13        1       2  663.133763   \n",
      "             5         33.513435     17        1       1  536.214961   \n",
      "...                          ...    ...      ...     ...         ...   \n",
      "Pt      111  90       167.050857     79        3       2  501.152570   \n",
      "             91       103.513080     91        3       1  931.617718   \n",
      "             92       179.289913     91        3       2  537.869740   \n",
      "             93       106.871130     97        3       1  961.840169   \n",
      "             94       185.106227     97        3       2  555.318680   \n",
      "\n",
      "                      num_aroundgb  \n",
      "element axis gbindex                \n",
      "Fe      100  1                 416  \n",
      "             2                 432  \n",
      "             3                 336  \n",
      "             4                 480  \n",
      "             5                 368  \n",
      "...                            ...  \n",
      "Pt      111  90                369  \n",
      "             91                693  \n",
      "             92                399  \n",
      "             93                711  \n",
      "             94                411  \n",
      "\n",
      "[1316 rows x 14 columns]\n"
     ]
    }
   ],
   "source": [
    "df_concat = pd.concat([df_1,df_2])\n",
    "print(df_concat)\n",
    "df_concat.to_csv('concat.csv')"
   ]
  },
  {
   "cell_type": "code",
   "execution_count": 14,
   "id": "97814d05",
   "metadata": {},
   "outputs": [
    {
     "data": {
      "text/plain": [
       "'E:\\\\CNIDs_GB_area_gbnum\\\\bcc'"
      ]
     },
     "execution_count": 14,
     "metadata": {},
     "output_type": "execute_result"
    }
   ],
   "source": [
    "os.chdir('bcc/')\n",
    "os.getcwd()"
   ]
  },
  {
   "cell_type": "code",
   "execution_count": 16,
   "id": "1924533d",
   "metadata": {},
   "outputs": [],
   "source": [
    "# bcc_hkl_angle.csvを入れたbccファイルの中で実行\n",
    "def make_bcc_cnid_list():\n",
    "    df_bcc_hkl_angle = pd.read_csv('bcc_hkl_angle.csv',index_col = 0)\n",
    "    bcc_hkl_angle = df_bcc_hkl_angle.values\n",
    "    firstLoop = True\n",
    "    for name in glob.glob('./**/*CNIDs', recursive=True):\n",
    "        category_list = name.split('\\\\')[1:-1]\n",
    "        CNIDs = np.loadtxt(os.path.abspath(name))\n",
    "        gb_index = make_gb_index(len(CNIDs))\n",
    "        CNIDs = np.hstack((bcc_hkl_angle, CNIDs))\n",
    "        CNIDs = np.hstack((gb_index,CNIDs))\n",
    "        category_list = np.tile(category_list,(len(CNIDs),1))\n",
    "        CNIDs = np.hstack((category_list,CNIDs))\n",
    "    #     CNIDs = np.hstack((CNIDs,hkl_angle))\n",
    "        if firstLoop:\n",
    "            CNIDs_list = CNIDs\n",
    "            firstLoop = False\n",
    "        else:\n",
    "            CNIDs_list = np.vstack((CNIDs_list,CNIDs))\n",
    "    return CNIDs_list"
   ]
  },
  {
   "cell_type": "code",
   "execution_count": 17,
   "id": "6dbe2686",
   "metadata": {},
   "outputs": [],
   "source": [
    "bcc_cnid_list = make_bcc_cnid_list()"
   ]
  },
  {
   "cell_type": "code",
   "execution_count": 18,
   "id": "f2a1ca51",
   "metadata": {},
   "outputs": [],
   "source": [
    "df_bcc = pd.DataFrame(bcc_cnid_list)"
   ]
  },
  {
   "cell_type": "code",
   "execution_count": 19,
   "id": "48a03c09",
   "metadata": {},
   "outputs": [],
   "source": [
    "df_bcc.to_csv('bcc_cnid_list.csv')"
   ]
  },
  {
   "cell_type": "code",
   "execution_count": 19,
   "id": "8cb30cd5",
   "metadata": {},
   "outputs": [
    {
     "name": "stdout",
     "output_type": "stream",
     "text": [
      "[['Cr' '001' '<0 1 2>' ... 1.0 519.664284500724 364.0]\n",
      " ['Cr' '002' '<0 3 1>' ... 2.0 551.1872092663758 378.0]\n",
      " ['Cr' '003' '<0 2 3>' ... 1.0 418.96674042299844 294.0]\n",
      " ...\n",
      " ['W' '100' '<7 4 -11>' ... 2.0 546.0800687517375 312.0]\n",
      " ['W' '101' '<8 3 -11>' ... 1.0 1673.1002849932531 936.0]\n",
      " ['W' '102' '<19 -5 -14>' ... 2.0 965.9648999220941 552.0]]\n"
     ]
    }
   ],
   "source": [
    "print(bcc_cnid_list)"
   ]
  },
  {
   "cell_type": "code",
   "execution_count": 183,
   "id": "24e842b6",
   "metadata": {},
   "outputs": [
    {
     "data": {
      "text/html": [
       "<div>\n",
       "<style scoped>\n",
       "    .dataframe tbody tr th:only-of-type {\n",
       "        vertical-align: middle;\n",
       "    }\n",
       "\n",
       "    .dataframe tbody tr th {\n",
       "        vertical-align: top;\n",
       "    }\n",
       "\n",
       "    .dataframe thead th {\n",
       "        text-align: right;\n",
       "    }\n",
       "</style>\n",
       "<table border=\"1\" class=\"dataframe\">\n",
       "  <thead>\n",
       "    <tr style=\"text-align: right;\">\n",
       "      <th></th>\n",
       "      <th>0</th>\n",
       "      <th>1</th>\n",
       "      <th>2</th>\n",
       "      <th>3</th>\n",
       "      <th>4</th>\n",
       "      <th>5</th>\n",
       "      <th>6</th>\n",
       "      <th>7</th>\n",
       "      <th>8</th>\n",
       "      <th>9</th>\n",
       "      <th>10</th>\n",
       "      <th>11</th>\n",
       "      <th>12</th>\n",
       "      <th>13</th>\n",
       "    </tr>\n",
       "  </thead>\n",
       "  <tbody>\n",
       "    <tr>\n",
       "      <th>0</th>\n",
       "      <td>Cr</td>\n",
       "      <td>001</td>\n",
       "      <td>&lt;0 1 2&gt;</td>\n",
       "      <td>53.130102</td>\n",
       "      <td>2.880978</td>\n",
       "      <td>-0.0</td>\n",
       "      <td>0.0</td>\n",
       "      <td>6.442062</td>\n",
       "      <td>2.880978</td>\n",
       "      <td>6.442062</td>\n",
       "      <td>18.559439</td>\n",
       "      <td>5.0</td>\n",
       "      <td>1.0</td>\n",
       "      <td>1.0</td>\n",
       "    </tr>\n",
       "    <tr>\n",
       "      <th>1</th>\n",
       "      <td>Cr</td>\n",
       "      <td>002</td>\n",
       "      <td>&lt;0 3 1&gt;</td>\n",
       "      <td>36.869898</td>\n",
       "      <td>2.880978</td>\n",
       "      <td>-0.0</td>\n",
       "      <td>-1.440489</td>\n",
       "      <td>-4.555226</td>\n",
       "      <td>2.880978</td>\n",
       "      <td>4.777561</td>\n",
       "      <td>13.123505</td>\n",
       "      <td>5.0</td>\n",
       "      <td>1.0</td>\n",
       "      <td>2.0</td>\n",
       "    </tr>\n",
       "    <tr>\n",
       "      <th>2</th>\n",
       "      <td>Cr</td>\n",
       "      <td>003</td>\n",
       "      <td>&lt;0 2 3&gt;</td>\n",
       "      <td>67.380135</td>\n",
       "      <td>-2.880978</td>\n",
       "      <td>0.0</td>\n",
       "      <td>-0.0</td>\n",
       "      <td>-10.387513</td>\n",
       "      <td>2.880978</td>\n",
       "      <td>10.387513</td>\n",
       "      <td>29.926196</td>\n",
       "      <td>13.0</td>\n",
       "      <td>1.0</td>\n",
       "      <td>1.0</td>\n",
       "    </tr>\n",
       "    <tr>\n",
       "      <th>3</th>\n",
       "      <td>Cr</td>\n",
       "      <td>004</td>\n",
       "      <td>&lt;0 -1 5&gt;</td>\n",
       "      <td>22.619865</td>\n",
       "      <td>2.880978</td>\n",
       "      <td>0.0</td>\n",
       "      <td>-1.440489</td>\n",
       "      <td>-7.345081</td>\n",
       "      <td>2.880978</td>\n",
       "      <td>7.485</td>\n",
       "      <td>21.161016</td>\n",
       "      <td>13.0</td>\n",
       "      <td>1.0</td>\n",
       "      <td>2.0</td>\n",
       "    </tr>\n",
       "    <tr>\n",
       "      <th>4</th>\n",
       "      <td>Cr</td>\n",
       "      <td>005</td>\n",
       "      <td>&lt;0 4 1&gt;</td>\n",
       "      <td>28.072487</td>\n",
       "      <td>2.880978</td>\n",
       "      <td>0.0</td>\n",
       "      <td>0.0</td>\n",
       "      <td>11.878576</td>\n",
       "      <td>2.880978</td>\n",
       "      <td>11.878576</td>\n",
       "      <td>34.221914</td>\n",
       "      <td>17.0</td>\n",
       "      <td>1.0</td>\n",
       "      <td>1.0</td>\n",
       "    </tr>\n",
       "  </tbody>\n",
       "</table>\n",
       "</div>"
      ],
      "text/plain": [
       "   0    1         2          3         4    5         6          7         8   \\\n",
       "0  Cr  001   <0 1 2>  53.130102  2.880978 -0.0       0.0   6.442062  2.880978   \n",
       "1  Cr  002   <0 3 1>  36.869898  2.880978 -0.0 -1.440489  -4.555226  2.880978   \n",
       "2  Cr  003   <0 2 3>  67.380135 -2.880978  0.0      -0.0 -10.387513  2.880978   \n",
       "3  Cr  004  <0 -1 5>  22.619865  2.880978  0.0 -1.440489  -7.345081  2.880978   \n",
       "4  Cr  005   <0 4 1>  28.072487  2.880978  0.0       0.0  11.878576  2.880978   \n",
       "\n",
       "          9          10    11   12   13  \n",
       "0   6.442062  18.559439   5.0  1.0  1.0  \n",
       "1   4.777561  13.123505   5.0  1.0  2.0  \n",
       "2  10.387513  29.926196  13.0  1.0  1.0  \n",
       "3      7.485  21.161016  13.0  1.0  2.0  \n",
       "4  11.878576  34.221914  17.0  1.0  1.0  "
      ]
     },
     "execution_count": 183,
     "metadata": {},
     "output_type": "execute_result"
    }
   ],
   "source": [
    "df_bcc.head()"
   ]
  },
  {
   "cell_type": "code",
   "execution_count": 147,
   "id": "7b0694bc",
   "metadata": {},
   "outputs": [
    {
     "data": {
      "text/plain": [
       "array([53.13010235, 36.86989765, 67.38013505, ..., 42.10344887,\n",
       "       30.5906886, 29.4093114], dtype=object)"
      ]
     },
     "execution_count": 147,
     "metadata": {},
     "output_type": "execute_result"
    }
   ],
   "source": [
    "matrix.T[5]"
   ]
  },
  {
   "cell_type": "code",
   "execution_count": 20,
   "id": "15cd5c1f",
   "metadata": {},
   "outputs": [
    {
     "data": {
      "text/plain": [
       "'C:\\\\Users\\\\hatay\\\\calc\\\\bcc_GB_generator\\\\bcc'"
      ]
     },
     "execution_count": 20,
     "metadata": {},
     "output_type": "execute_result"
    }
   ],
   "source": [
    "#os.chdir('..')\n",
    "os.getcwd()"
   ]
  },
  {
   "cell_type": "code",
   "execution_count": 7,
   "id": "a42da8fe",
   "metadata": {},
   "outputs": [],
   "source": [
    "# fcc_hkl_angle.csvを入れたfccファイルの中で実行\n",
    "def make_fcc_cnid_list():\n",
    "    df_fcc_hkl_angle = pd.read_csv('fcc_hkl_angle.csv',index_col = 0)\n",
    "    fcc_hkl_angle = df_fcc_hkl_angle.values\n",
    "    firstLoop = True\n",
    "    for name in glob.glob('./**/*CNIDs', recursive=True):\n",
    "        category_list = name.split('\\\\')[1:-1]\n",
    "        CNIDs = np.loadtxt(os.path.abspath(name))\n",
    "        gb_index = make_gb_index(len(CNIDs))\n",
    "        CNIDs = np.hstack((fcc_hkl_angle, CNIDs))\n",
    "        CNIDs = np.hstack((gb_index,CNIDs))\n",
    "        category_list = np.tile(category_list,(len(CNIDs),1))\n",
    "        CNIDs = np.hstack((category_list,CNIDs))\n",
    "    #     CNIDs = np.hstack((CNIDs,hkl_angle))\n",
    "        if firstLoop:\n",
    "            CNIDs_list = CNIDs\n",
    "            firstLoop = False\n",
    "        else:\n",
    "            CNIDs_list = np.vstack((CNIDs_list,CNIDs))\n",
    "    return CNIDs_list"
   ]
  },
  {
   "cell_type": "code",
   "execution_count": 9,
   "id": "56dabfbe",
   "metadata": {},
   "outputs": [
    {
     "data": {
      "text/plain": [
       "'H:\\\\CNIDs_GB_area\\\\fcc'"
      ]
     },
     "execution_count": 9,
     "metadata": {},
     "output_type": "execute_result"
    }
   ],
   "source": [
    "os.getcwd()"
   ]
  },
  {
   "cell_type": "code",
   "execution_count": 8,
   "id": "cd81fb72",
   "metadata": {},
   "outputs": [],
   "source": [
    "fcc_cnid_list = make_fcc_cnid_list()"
   ]
  },
  {
   "cell_type": "code",
   "execution_count": 10,
   "metadata": {},
   "outputs": [
    {
     "data": {
      "text/plain": [
       "(752, 16)"
      ]
     },
     "execution_count": 10,
     "metadata": {},
     "output_type": "execute_result"
    }
   ],
   "source": [
    "fcc_cnid_list.shape"
   ]
  },
  {
   "cell_type": "code",
   "execution_count": 11,
   "id": "b6d9fffc",
   "metadata": {},
   "outputs": [],
   "source": [
    "df_fcc = pd.DataFrame(fcc_cnid_list)"
   ]
  },
  {
   "cell_type": "code",
   "execution_count": 12,
   "id": "bc0332d7",
   "metadata": {},
   "outputs": [],
   "source": [
    "df_fcc.to_csv('fcc_cnid_list.csv')"
   ]
  },
  {
   "cell_type": "code",
   "execution_count": 22,
   "id": "0e2b7889",
   "metadata": {},
   "outputs": [],
   "source": [
    "df_tot = pd.concat([df_bcc,df_fcc])"
   ]
  },
  {
   "cell_type": "code",
   "execution_count": 23,
   "id": "1770a0ae",
   "metadata": {},
   "outputs": [
    {
     "data": {
      "text/html": [
       "<div>\n",
       "<style scoped>\n",
       "    .dataframe tbody tr th:only-of-type {\n",
       "        vertical-align: middle;\n",
       "    }\n",
       "\n",
       "    .dataframe tbody tr th {\n",
       "        vertical-align: top;\n",
       "    }\n",
       "\n",
       "    .dataframe thead th {\n",
       "        text-align: right;\n",
       "    }\n",
       "</style>\n",
       "<table border=\"1\" class=\"dataframe\">\n",
       "  <thead>\n",
       "    <tr style=\"text-align: right;\">\n",
       "      <th></th>\n",
       "      <th>0</th>\n",
       "      <th>1</th>\n",
       "      <th>2</th>\n",
       "      <th>3</th>\n",
       "      <th>4</th>\n",
       "      <th>5</th>\n",
       "      <th>6</th>\n",
       "      <th>7</th>\n",
       "      <th>8</th>\n",
       "      <th>9</th>\n",
       "      <th>10</th>\n",
       "      <th>11</th>\n",
       "      <th>12</th>\n",
       "      <th>13</th>\n",
       "      <th>14</th>\n",
       "      <th>15</th>\n",
       "    </tr>\n",
       "  </thead>\n",
       "  <tbody>\n",
       "    <tr>\n",
       "      <th>0</th>\n",
       "      <td>Cr</td>\n",
       "      <td>001</td>\n",
       "      <td>&lt;0 1 2&gt;</td>\n",
       "      <td>53.130102</td>\n",
       "      <td>2.880978</td>\n",
       "      <td>-0.0</td>\n",
       "      <td>0.0</td>\n",
       "      <td>6.442062</td>\n",
       "      <td>2.880978</td>\n",
       "      <td>6.442062</td>\n",
       "      <td>18.559439</td>\n",
       "      <td>5.0</td>\n",
       "      <td>1.0</td>\n",
       "      <td>1.0</td>\n",
       "      <td>519.664285</td>\n",
       "      <td>364.0</td>\n",
       "    </tr>\n",
       "    <tr>\n",
       "      <th>1</th>\n",
       "      <td>Cr</td>\n",
       "      <td>002</td>\n",
       "      <td>&lt;0 3 1&gt;</td>\n",
       "      <td>36.869898</td>\n",
       "      <td>2.880978</td>\n",
       "      <td>-0.0</td>\n",
       "      <td>-1.440489</td>\n",
       "      <td>-4.555226</td>\n",
       "      <td>2.880978</td>\n",
       "      <td>4.777561</td>\n",
       "      <td>13.123505</td>\n",
       "      <td>5.0</td>\n",
       "      <td>1.0</td>\n",
       "      <td>2.0</td>\n",
       "      <td>551.187209</td>\n",
       "      <td>378.0</td>\n",
       "    </tr>\n",
       "    <tr>\n",
       "      <th>2</th>\n",
       "      <td>Cr</td>\n",
       "      <td>003</td>\n",
       "      <td>&lt;0 2 3&gt;</td>\n",
       "      <td>67.380135</td>\n",
       "      <td>-2.880978</td>\n",
       "      <td>0.0</td>\n",
       "      <td>-0.0</td>\n",
       "      <td>-10.387513</td>\n",
       "      <td>2.880978</td>\n",
       "      <td>10.387513</td>\n",
       "      <td>29.926196</td>\n",
       "      <td>13.0</td>\n",
       "      <td>1.0</td>\n",
       "      <td>1.0</td>\n",
       "      <td>418.96674</td>\n",
       "      <td>294.0</td>\n",
       "    </tr>\n",
       "    <tr>\n",
       "      <th>3</th>\n",
       "      <td>Cr</td>\n",
       "      <td>004</td>\n",
       "      <td>&lt;0 -1 5&gt;</td>\n",
       "      <td>22.619865</td>\n",
       "      <td>2.880978</td>\n",
       "      <td>0.0</td>\n",
       "      <td>-1.440489</td>\n",
       "      <td>-7.345081</td>\n",
       "      <td>2.880978</td>\n",
       "      <td>7.485</td>\n",
       "      <td>21.161016</td>\n",
       "      <td>13.0</td>\n",
       "      <td>1.0</td>\n",
       "      <td>2.0</td>\n",
       "      <td>592.508446</td>\n",
       "      <td>420.0</td>\n",
       "    </tr>\n",
       "    <tr>\n",
       "      <th>4</th>\n",
       "      <td>Cr</td>\n",
       "      <td>005</td>\n",
       "      <td>&lt;0 4 1&gt;</td>\n",
       "      <td>28.072487</td>\n",
       "      <td>2.880978</td>\n",
       "      <td>0.0</td>\n",
       "      <td>0.0</td>\n",
       "      <td>11.878576</td>\n",
       "      <td>2.880978</td>\n",
       "      <td>11.878576</td>\n",
       "      <td>34.221914</td>\n",
       "      <td>17.0</td>\n",
       "      <td>1.0</td>\n",
       "      <td>1.0</td>\n",
       "      <td>479.106797</td>\n",
       "      <td>322.0</td>\n",
       "    </tr>\n",
       "    <tr>\n",
       "      <th>...</th>\n",
       "      <td>...</td>\n",
       "      <td>...</td>\n",
       "      <td>...</td>\n",
       "      <td>...</td>\n",
       "      <td>...</td>\n",
       "      <td>...</td>\n",
       "      <td>...</td>\n",
       "      <td>...</td>\n",
       "      <td>...</td>\n",
       "      <td>...</td>\n",
       "      <td>...</td>\n",
       "      <td>...</td>\n",
       "      <td>...</td>\n",
       "      <td>...</td>\n",
       "      <td>...</td>\n",
       "      <td>...</td>\n",
       "    </tr>\n",
       "    <tr>\n",
       "      <th>811</th>\n",
       "      <td>Pt</td>\n",
       "      <td>098</td>\n",
       "      <td>&lt;-8 -11 19&gt;</td>\n",
       "      <td>49.582562</td>\n",
       "      <td>-6.785087</td>\n",
       "      <td>0.0</td>\n",
       "      <td>-0.0</td>\n",
       "      <td>-26.424116</td>\n",
       "      <td>6.785087</td>\n",
       "      <td>26.424116</td>\n",
       "      <td>179.289913</td>\n",
       "      <td>91.0</td>\n",
       "      <td>3.0</td>\n",
       "      <td>2.0</td>\n",
       "      <td>537.86974</td>\n",
       "      <td>399.0</td>\n",
       "    </tr>\n",
       "    <tr>\n",
       "      <th>812</th>\n",
       "      <td>Pt</td>\n",
       "      <td>099</td>\n",
       "      <td>&lt;-1 -5 6&gt;</td>\n",
       "      <td>17.896551</td>\n",
       "      <td>2.261696</td>\n",
       "      <td>0.0</td>\n",
       "      <td>-0.0</td>\n",
       "      <td>8.904304</td>\n",
       "      <td>2.261696</td>\n",
       "      <td>8.904304</td>\n",
       "      <td>20.138825</td>\n",
       "      <td>93.0</td>\n",
       "      <td>3.0</td>\n",
       "      <td>1.0</td>\n",
       "      <td>543.748272</td>\n",
       "      <td>405.0</td>\n",
       "    </tr>\n",
       "    <tr>\n",
       "      <th>813</th>\n",
       "      <td>Pt</td>\n",
       "      <td>100</td>\n",
       "      <td>&lt;-7 -4 11&gt;</td>\n",
       "      <td>42.103449</td>\n",
       "      <td>6.785087</td>\n",
       "      <td>0.0</td>\n",
       "      <td>0.0</td>\n",
       "      <td>15.422707</td>\n",
       "      <td>6.785087</td>\n",
       "      <td>15.422707</td>\n",
       "      <td>104.644404</td>\n",
       "      <td>93.0</td>\n",
       "      <td>3.0</td>\n",
       "      <td>2.0</td>\n",
       "      <td>627.866423</td>\n",
       "      <td>462.0</td>\n",
       "    </tr>\n",
       "    <tr>\n",
       "      <th>814</th>\n",
       "      <td>Pt</td>\n",
       "      <td>101</td>\n",
       "      <td>&lt;-8 -3 11&gt;</td>\n",
       "      <td>30.590689</td>\n",
       "      <td>6.785087</td>\n",
       "      <td>-0.0</td>\n",
       "      <td>2.261696</td>\n",
       "      <td>-15.750887</td>\n",
       "      <td>6.785087</td>\n",
       "      <td>15.912438</td>\n",
       "      <td>106.87113</td>\n",
       "      <td>97.0</td>\n",
       "      <td>3.0</td>\n",
       "      <td>1.0</td>\n",
       "      <td>961.840169</td>\n",
       "      <td>711.0</td>\n",
       "    </tr>\n",
       "    <tr>\n",
       "      <th>815</th>\n",
       "      <td>Pt</td>\n",
       "      <td>102</td>\n",
       "      <td>&lt;-5 -14 19&gt;</td>\n",
       "      <td>29.409311</td>\n",
       "      <td>6.785087</td>\n",
       "      <td>-0.0</td>\n",
       "      <td>-0.0</td>\n",
       "      <td>27.281336</td>\n",
       "      <td>6.785087</td>\n",
       "      <td>27.281336</td>\n",
       "      <td>185.106227</td>\n",
       "      <td>97.0</td>\n",
       "      <td>3.0</td>\n",
       "      <td>2.0</td>\n",
       "      <td>555.31868</td>\n",
       "      <td>411.0</td>\n",
       "    </tr>\n",
       "  </tbody>\n",
       "</table>\n",
       "<p>1530 rows × 16 columns</p>\n",
       "</div>"
      ],
      "text/plain": [
       "     0    1            2          3         4    5         6          7   \\\n",
       "0    Cr  001      <0 1 2>  53.130102  2.880978 -0.0       0.0   6.442062   \n",
       "1    Cr  002      <0 3 1>  36.869898  2.880978 -0.0 -1.440489  -4.555226   \n",
       "2    Cr  003      <0 2 3>  67.380135 -2.880978  0.0      -0.0 -10.387513   \n",
       "3    Cr  004     <0 -1 5>  22.619865  2.880978  0.0 -1.440489  -7.345081   \n",
       "4    Cr  005      <0 4 1>  28.072487  2.880978  0.0       0.0  11.878576   \n",
       "..   ..  ...          ...        ...       ...  ...       ...        ...   \n",
       "811  Pt  098  <-8 -11 19>  49.582562 -6.785087  0.0      -0.0 -26.424116   \n",
       "812  Pt  099    <-1 -5 6>  17.896551  2.261696  0.0      -0.0   8.904304   \n",
       "813  Pt  100   <-7 -4 11>  42.103449  6.785087  0.0       0.0  15.422707   \n",
       "814  Pt  101   <-8 -3 11>  30.590689  6.785087 -0.0  2.261696 -15.750887   \n",
       "815  Pt  102  <-5 -14 19>  29.409311  6.785087 -0.0      -0.0  27.281336   \n",
       "\n",
       "           8          9           10    11   12   13          14     15  \n",
       "0    2.880978   6.442062   18.559439   5.0  1.0  1.0  519.664285  364.0  \n",
       "1    2.880978   4.777561   13.123505   5.0  1.0  2.0  551.187209  378.0  \n",
       "2    2.880978  10.387513   29.926196  13.0  1.0  1.0   418.96674  294.0  \n",
       "3    2.880978      7.485   21.161016  13.0  1.0  2.0  592.508446  420.0  \n",
       "4    2.880978  11.878576   34.221914  17.0  1.0  1.0  479.106797  322.0  \n",
       "..        ...        ...         ...   ...  ...  ...         ...    ...  \n",
       "811  6.785087  26.424116  179.289913  91.0  3.0  2.0   537.86974  399.0  \n",
       "812  2.261696   8.904304   20.138825  93.0  3.0  1.0  543.748272  405.0  \n",
       "813  6.785087  15.422707  104.644404  93.0  3.0  2.0  627.866423  462.0  \n",
       "814  6.785087  15.912438   106.87113  97.0  3.0  1.0  961.840169  711.0  \n",
       "815  6.785087  27.281336  185.106227  97.0  3.0  2.0   555.31868  411.0  \n",
       "\n",
       "[1530 rows x 16 columns]"
      ]
     },
     "execution_count": 23,
     "metadata": {},
     "output_type": "execute_result"
    }
   ],
   "source": [
    "df_tot"
   ]
  },
  {
   "cell_type": "code",
   "execution_count": 24,
   "id": "e6e1c989",
   "metadata": {},
   "outputs": [],
   "source": [
    "df_tot.to_csv('cnid_list.csv')"
   ]
  },
  {
   "cell_type": "code",
   "execution_count": 28,
   "id": "d699530c",
   "metadata": {},
   "outputs": [],
   "source": [
    "os.chdir('OneDrive - The University of Tokyo/')"
   ]
  },
  {
   "cell_type": "code",
   "execution_count": 29,
   "id": "6132675c",
   "metadata": {},
   "outputs": [
    {
     "data": {
      "text/plain": [
       "'C:\\\\Users\\\\hatayuki\\\\OneDrive - The University of Tokyo'"
      ]
     },
     "execution_count": 29,
     "metadata": {},
     "output_type": "execute_result"
    }
   ],
   "source": [
    "os.getcwd()"
   ]
  },
  {
   "cell_type": "code",
   "execution_count": 20,
   "id": "67a8a92f",
   "metadata": {},
   "outputs": [
    {
     "name": "stdout",
     "output_type": "stream",
     "text": [
      "[['Ag' '001' '<0 -1 3>' ... 1.0 524.5839122262878 340.0]\n",
      " ['Ag' '002' '<0 -2 1>' ... 2.0 556.4052624548651 390.0]\n",
      " ['Ag' '003' '<0 -5 -1>' ... 1.0 422.9330710979156 290.0]\n",
      " ...\n",
      " ['Pt' '100' '<-7 -4 11>' ... 2.0 627.8664228387325 462.0]\n",
      " ['Pt' '101' '<-8 -3 11>' ... 1.0 961.8401687782113 711.0]\n",
      " ['Pt' '102' '<-5 -14 19>' ... 2.0 555.3186803614955 411.0]]\n"
     ]
    }
   ],
   "source": [
    "print(fcc_cnid_list)"
   ]
  },
  {
   "cell_type": "code",
   "execution_count": 173,
   "id": "45454d20",
   "metadata": {},
   "outputs": [
    {
     "name": "stdout",
     "output_type": "stream",
     "text": [
      "2754\n"
     ]
    }
   ],
   "source": [
    "print(len(CNIDs_list))"
   ]
  },
  {
   "cell_type": "code",
   "execution_count": 127,
   "id": "fd4aff08",
   "metadata": {},
   "outputs": [
    {
     "name": "stdout",
     "output_type": "stream",
     "text": [
      "[array([[1, 2, 3],\n",
      "       [4, 5, 6],\n",
      "       [7, 8, 9]]), array([[1, 2, 3],\n",
      "       [4, 5, 6],\n",
      "       [7, 8, 9]]), array([[1, 2, 3],\n",
      "       [4, 5, 6],\n",
      "       [7, 8, 9]])]\n",
      "[[1 2 3]\n",
      " [4 5 6]\n",
      " [7 8 9]\n",
      " [1 2 3]\n",
      " [4 5 6]\n",
      " [7 8 9]\n",
      " [1 2 3]\n",
      " [4 5 6]\n",
      " [7 8 9]]\n"
     ]
    }
   ],
   "source": [
    "a = np.array([[1,2,3,],\n",
    "            [4,5,6,],\n",
    "            [7,8,9,]])\n",
    "#print(a.tolist()[:])\n",
    "#a = a.reshape(len)\n",
    "#a = np.array([a,a,a])\n",
    "array_list = [a,a,a]\n",
    "print(array_list)\n",
    "array_list = np.array(array_list)\n",
    "# 3次元行列を2次元行列に変換\n",
    "print(array_list.reshape(int(array_list.size/len(array_list)),len(array_list)))\n",
    "# array_list = [a.tolist(),a.tolist(),a.tolist()]\n",
    "# print(len(array_list))"
   ]
  },
  {
   "cell_type": "code",
   "execution_count": 152,
   "id": "578b351a",
   "metadata": {},
   "outputs": [
    {
     "name": "stdout",
     "output_type": "stream",
     "text": [
      "001\n"
     ]
    }
   ],
   "source": [
    "print(CNIDs_list.T[3][204])"
   ]
  },
  {
   "cell_type": "code",
   "execution_count": 83,
   "id": "cbf9668e",
   "metadata": {},
   "outputs": [
    {
     "data": {
      "text/plain": [
       "'C:\\\\Users\\\\hatayuki\\\\OneDrive - The University of Tokyo\\\\now_using\\\\210905'"
      ]
     },
     "execution_count": 83,
     "metadata": {},
     "output_type": "execute_result"
    }
   ],
   "source": [
    "os.getcwd()"
   ]
  },
  {
   "cell_type": "code",
   "execution_count": 86,
   "id": "c5cd90d4",
   "metadata": {},
   "outputs": [],
   "source": [
    "df = pd.read_csv('bcc_hkl_angle.csv', index_col= 0)"
   ]
  },
  {
   "cell_type": "code",
   "execution_count": 89,
   "id": "badaf4df",
   "metadata": {},
   "outputs": [],
   "source": [
    "hkl_angle = df.values"
   ]
  },
  {
   "cell_type": "code",
   "execution_count": 90,
   "id": "0b6fd7ab",
   "metadata": {
    "scrolled": true
   },
   "outputs": [
    {
     "name": "stdout",
     "output_type": "stream",
     "text": [
      "[['<0 1 2>' 53.13010235]\n",
      " ['<0 3 1>' 36.86989765]\n",
      " ['<0 2 3>' 67.38013505]\n",
      " ['<0 -1 5>' 22.61986495]\n",
      " ['<0 4 1>' 28.07248694]\n",
      " ['<0 5 -3>' 61.92751306]\n",
      " ['<0 4 -3>' 73.73979529]\n",
      " ['<0 7 1>' 16.26020471]\n",
      " ['<0 5 2>' 43.60281897]\n",
      " ['<0 3 7>' 46.39718103]\n",
      " ['<0 6 1>' 18.92464442]\n",
      " ['<0 7 -5>' 71.07535558]\n",
      " ['<0 4 5>' 77.31961651]\n",
      " ['<0 -1 9>' 12.68038349]\n",
      " ['<0 7 2>' 31.8907918]\n",
      " ['<0 5 9>' 58.1092082]\n",
      " ['<0 6 -5>' 79.61114218]\n",
      " ['<0 11 1>' 10.38885782]\n",
      " ['<0 8 1>' 14.2500327]\n",
      " ['<0 9 -7>' 75.7499673]\n",
      " ['<0 8 3>' 41.11209044]\n",
      " ['<0 5 11>' 48.88790956]\n",
      " ['<0 6 7>' 81.20258929]\n",
      " ['<0 -1 13>' 8.79741071]\n",
      " ['<0 8 -5>' 64.01076642]\n",
      " ['<0 -3 13>' 25.98923358]\n",
      " ['<0 4 9>' 47.92497795]\n",
      " ['<0 -5 13>' 42.07502205]\n",
      " ['<-1 1 1>' 70.52877937]\n",
      " ['<1 -1 2>' 109.4712206]\n",
      " ['<-2 2 1>' 38.94244127]\n",
      " ['<1 -1 4>' 141.0575587]\n",
      " ['<1 -1 3>' 129.5211964]\n",
      " ['<-3 3 2>' 50.47880364]\n",
      " ['<2 -2 3>' 93.37228668]\n",
      " ['<-3 3 4>' 86.62771332]\n",
      " ['<-3 3 1>' 26.52535202]\n",
      " ['<1 -1 6>' 153.474648]\n",
      " ['<1 -1 5>' 148.4136619]\n",
      " ['<-5 5 2>' 31.5863381]\n",
      " ['<-4 4 1>' 20.04997572]\n",
      " ['<1 -1 8>' 159.9500243]\n",
      " ['<-4 4 3>' 55.87670546]\n",
      " ['<3 -3 8>' 124.1232945]\n",
      " ['<3 -3 5>' 99.36891558]\n",
      " ['<-5 5 6>' 80.63108442]\n",
      " ['<-5 5 1>' 16.09893395]\n",
      " ['<1 -1 10>' 163.901066]\n",
      " ['<2 -2 7>' 135.9965727]\n",
      " ['<-7 7 4>' 44.00342735]\n",
      " ['<-5 5 3>' 45.97953555]\n",
      " ['<3 -3 10>' 134.0204645]\n",
      " ['<3 -3 7>' 117.5606031]\n",
      " ['<-7 7 6>' 62.43939689]\n",
      " ['<-6 6 1>' 13.44273868]\n",
      " ['<1 -1 12>' 166.5572613]\n",
      " ['<4 -4 7>' 102.1151175]\n",
      " ['<-7 7 8>' 77.88488254]\n",
      " ['<1 -1 9>' 162.1397163]\n",
      " ['<-9 9 2>' 17.86028367]\n",
      " ['<2 -2 9>' 145.1072953]\n",
      " ['<-9 9 4>' 34.89270467]\n",
      " ['<-6 6 5>' 61.01791773]\n",
      " ['<5 -5 12>' 118.9820823]\n",
      " ['<-7 7 1>' 11.53636237]\n",
      " ['<1 -1 14>' 168.4636376]\n",
      " ['<1 0 -1>' 2.41e-06]\n",
      " ['<2 -1 -1>' 60.0]\n",
      " ['<3 -2 -1>' 38.2132107]\n",
      " ['<5 -1 -4>' 21.7867893]\n",
      " ['<3 1 -4>' 27.7957725]\n",
      " ['<2 5 -7>' 32.2042275]\n",
      " ['<2 -5 3>' 46.82644889]\n",
      " ['<1 7 -8>' 13.17355111]\n",
      " ['<3 -1 -2>' 38.2132107]\n",
      " ['<5 -4 -1>' 21.7867893]\n",
      " ['<5 1 -6>' 17.89655113]\n",
      " ['<4 7 -11>' 42.10344887]\n",
      " ['<3 -7 4>' 50.56999209]\n",
      " ['<1 10 -11>' 9.430007908]\n",
      " ['<4 -1 -3>' 27.7957725]\n",
      " ['<5 2 -7>' 32.2042275]\n",
      " ['<7 -6 -1>' 15.17817894]\n",
      " ['<13 -5 -8>' 44.82182106]\n",
      " ['<8 -5 -3>' 43.5735786]\n",
      " ['<11 -13 2>' 16.4264214]\n",
      " ['<5 -2 -3>' 46.82644889]\n",
      " ['<8 -7 -1>' 13.17355111]\n",
      " ['<5 4 -9>' 52.65900698]\n",
      " ['<14 -1 -13>' 7.340993017]\n",
      " ['<7 2 -9>' 24.43269768]\n",
      " ['<16 -5 -11>' 35.56730232]\n",
      " ['<8 1 -9>' 11.63505129]\n",
      " ['<7 10 -17>' 48.36494871]\n",
      " ['<7 3 -10>' 33.99217611]\n",
      " ['<17 -4 -13>' 26.00782389]\n",
      " ['<9 1 -10>' 10.41743821]\n",
      " ['<8 11 -19>' 49.58256179]\n",
      " ['<6 -1 -5>' 17.89655113]\n",
      " ['<7 4 -11>' 42.10344887]\n",
      " ['<8 3 -11>' 30.5906886]\n",
      " ['<19 -5 -14>' 29.4093114]]\n"
     ]
    }
   ],
   "source": [
    "print(hkl_angle)"
   ]
  },
  {
   "cell_type": "code",
   "execution_count": 27,
   "metadata": {},
   "outputs": [
    {
     "data": {
      "text/plain": [
       "'C:\\\\Users\\\\hatay\\\\calc\\\\fcc_GB_generator\\\\fcc'"
      ]
     },
     "execution_count": 27,
     "metadata": {},
     "output_type": "execute_result"
    }
   ],
   "source": [
    "os.chdir(\"C://Users//hatay//calc/fcc_GB_generator/fcc\")\n",
    "os.getcwd()"
   ]
  },
  {
   "cell_type": "code",
   "execution_count": null,
   "id": "100d492e",
   "metadata": {},
   "outputs": [],
   "source": [
    "for name in glob.glob(\"*.stgb\"):\n",
    "    category = name.split(\"_\")[0]\n",
    "    if category not in os.listdir(\".\"):\n",
    "        os.mkdir(f\"{os.getcwd()}\\\\{category}\")\n",
    "    shutil.move(os.path.abspath(name),f\"{os.getcwd()}\\\\{category}\\\\{name}\")"
   ]
  }
 ],
 "metadata": {
  "kernelspec": {
   "display_name": "Python 3",
   "language": "python",
   "name": "python3"
  },
  "language_info": {
   "codemirror_mode": {
    "name": "ipython",
    "version": 3
   },
   "file_extension": ".py",
   "mimetype": "text/x-python",
   "name": "python",
   "nbconvert_exporter": "python",
   "pygments_lexer": "ipython3",
   "version": "3.8.5"
  }
 },
 "nbformat": 4,
 "nbformat_minor": 5
}
