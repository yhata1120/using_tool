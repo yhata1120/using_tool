{
 "cells": [
  {
   "cell_type": "code",
   "execution_count": 2,
   "id": "b373deb4",
   "metadata": {},
   "outputs": [],
   "source": [
    "import os\n",
    "import numpy as np\n",
    "import shutil\n",
    "import glob\n",
    "import math"
   ]
  },
  {
   "cell_type": "code",
   "execution_count": 8,
   "id": "dcffea76",
   "metadata": {},
   "outputs": [
    {
     "data": {
      "text/plain": [
       "'2'"
      ]
     },
     "execution_count": 8,
     "metadata": {},
     "output_type": "execute_result"
    }
   ],
   "source": [
    "glob.glob(\"*0\")[0][0]"
   ]
  },
  {
   "cell_type": "code",
   "execution_count": 6,
   "id": "c69933aa",
   "metadata": {},
   "outputs": [
    {
     "name": "stdout",
     "output_type": "stream",
     "text": [
      "[210, 310, 410, 510, 610, 710, 810, 910]\n"
     ]
    }
   ],
   "source": [
    "gbnames = [int(i) for i in glob.glob(\"*0\")]\n",
    "print(gbnames)"
   ]
  },
  {
   "cell_type": "code",
   "execution_count": 9,
   "id": "1968e295",
   "metadata": {},
   "outputs": [],
   "source": [
    "gbtans = [float(i[1])/float(i[0]) for i in glob.glob(\"*0\")]"
   ]
  },
  {
   "cell_type": "code",
   "execution_count": 14,
   "id": "a34b1f38",
   "metadata": {},
   "outputs": [],
   "source": [
    "alpha = np.arctan(1/2)"
   ]
  },
  {
   "cell_type": "code",
   "execution_count": 15,
   "id": "503d34fb",
   "metadata": {},
   "outputs": [],
   "source": [
    "keikakus = [np.arctan(i) for i in gbtans]"
   ]
  },
  {
   "cell_type": "code",
   "execution_count": 18,
   "id": "8c7b2986",
   "metadata": {},
   "outputs": [],
   "source": [
    "thetas = alpha -keikakus"
   ]
  },
  {
   "cell_type": "code",
   "execution_count": 20,
   "id": "feaff58a",
   "metadata": {},
   "outputs": [],
   "source": [
    "gbcos = [np.cos(i) for i in thetas]"
   ]
  },
  {
   "cell_type": "code",
   "execution_count": 21,
   "id": "e3b3ae6e",
   "metadata": {},
   "outputs": [
    {
     "data": {
      "text/plain": [
       "[1.0,\n",
       " 0.9899494936611666,\n",
       " 0.9761870601839527,\n",
       " 0.9647638212377322,\n",
       " 0.9557790087219501,\n",
       " 0.9486832980505138,\n",
       " 0.9429903335828895,\n",
       " 0.9383431168171101]"
      ]
     },
     "execution_count": 21,
     "metadata": {},
     "output_type": "execute_result"
    }
   ],
   "source": [
    "gbcos"
   ]
  },
  {
   "cell_type": "code",
   "execution_count": 29,
   "id": "d88f9a55",
   "metadata": {},
   "outputs": [],
   "source": [
    "lattice_constant = 3.61999999500576\n",
    "alpha = np.arctan(1/2)\n",
    "for gbname in glob.glob(\"*0\"):\n",
    "    \n",
    "    dy = lattice_constant/2\n",
    "    keikaku = np.arctan(float(gbname[1])/float(gbname[0]))\n",
    "    theta = alpha - keikaku\n",
    "    gbcos = np.cos(theta)\n",
    "    dz = -np.sqrt(5)*lattice_constant*gbcos/2\n",
    "    with open(f\"./{gbname}/proto.in\",\"w\") as f:\n",
    "        f.write(f\"\"\"\n",
    "\n",
    "variable tx equal 0 # displacement in x direction\n",
    "variable ty equal {dy} # displacement in y direction\n",
    "variable tz equal {dz} # displacement in z direction\n",
    "\n",
    "# end end of defining looping parameter------------------\n",
    "\n",
    "\n",
    "\n",
    "clear\n",
    "\n",
    "#Initialize Simulation --------------------- \n",
    "units metal \n",
    "dimension 3 \n",
    "boundary s p p\n",
    "atom_style atomic\n",
    "atom_modify map array\n",
    "# ---------- Create Atoms --------------------- \n",
    "read_data ./atominfile2\n",
    "include ./blockfile\n",
    "\n",
    "mass 1 63.546 #Cu\n",
    "mass 2 63.546 #Cu\n",
    "\n",
    "# ---------- Define Interatomic Potential --------------------- \n",
    "pair_style meam\n",
    "pair_coeff * * library.Cu.meam Cu Cu.meam Cu Cu\n",
    "neighbor 2.0 bin \n",
    "neigh_modify delay 10 check yes \n",
    "\n",
    "# ---------- Compute properties of bulk --------------------- \n",
    "#0.excess energy\n",
    "compute eng all pe/atom \n",
    "compute eatoms all reduce sum c_eng \n",
    "compute emiddle middle reduce sum c_eng\n",
    "compute bulk_dis bulk displace/atom \n",
    "compute hulk_dis_ave_x bulk reduce ave c_bulk_dis[1]\n",
    "# ---------- Calculate excess values ---------------------\n",
    "#per atom properties in Cu crystal \n",
    "variable minimumenergy equal -3.54000000004256\n",
    "variable gbarea equal \"ly * lz\" \n",
    "\n",
    "# ---------- Run Minimization ---------------------\n",
    "reset_timestep 0\n",
    "\n",
    "displace_atoms right move ${{tx}} ${{ty}} ${{tz}} units box\n",
    "\n",
    "velocity fixbulk1 zero linear\n",
    "fix fixbulk1 fixbulk1 setforce 0.0 0.0 0.0\n",
    "\n",
    "velocity fixbulk2 zero linear\n",
    "fix fixbulk2 fixbulk2 setforce NULL 0.0 0.0\n",
    "\n",
    "min_style cg \n",
    "minimize 1e-25 1e-25 5000 10000\n",
    "\n",
    "#--------- RBT right atoms -------- \n",
    "\n",
    "thermo 10000 \n",
    "thermo_style custom step lx ly lz c_emiddle temp c_hulk_dis_ave_x\n",
    "dump            1 all custom 1 final id type x y z c_eng \n",
    "run 0\n",
    "\n",
    "#4.excess energy\n",
    "variable esum equal \"v_minimumenergy * count(middle)\" \n",
    "variable xseng equal \"c_emiddle - (v_minimumenergy * count(middle))\" \n",
    "variable gbe equal \"(c_emiddle - (v_minimumenergy * count(middle)))/v_gbarea\" \n",
    "variable gbemJm2 equal ${{gbe}}*16021.7733 \n",
    "variable gbernd equal round(${{gbemJm2}}) \n",
    "variable ave_dis_x equal c_hulk_dis_ave_x\n",
    "\n",
    "\n",
    "#----------- output calculation result of each loop into results file \n",
    "print \"Grain Boundary energy (meV) = ${{gbemJm2}};\"\n",
    "print \"All done!\" \n",
    "\n",
    "\n",
    "\n",
    "\n",
    "\n",
    "\n",
    "            \"\"\")"
   ]
  },
  {
   "cell_type": "code",
   "execution_count": null,
   "id": "932401d9",
   "metadata": {},
   "outputs": [],
   "source": []
  },
  {
   "cell_type": "code",
   "execution_count": null,
   "id": "d139a6f4",
   "metadata": {},
   "outputs": [],
   "source": []
  }
 ],
 "metadata": {
  "kernelspec": {
   "display_name": "Python 3 (ipykernel)",
   "language": "python",
   "name": "python3"
  },
  "language_info": {
   "codemirror_mode": {
    "name": "ipython",
    "version": 3
   },
   "file_extension": ".py",
   "mimetype": "text/x-python",
   "name": "python",
   "nbconvert_exporter": "python",
   "pygments_lexer": "ipython3",
   "version": "3.7.11"
  }
 },
 "nbformat": 4,
 "nbformat_minor": 5
}
