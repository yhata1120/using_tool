{
 "cells": [
  {
   "cell_type": "code",
   "execution_count": 1,
   "metadata": {},
   "outputs": [],
   "source": [
    "from cellcalc import get_primitive_hkl, MID, get_pri_vec_inplane\n",
    "from interface_generator import core, print_near_axis, convert_vector_index\n",
    "from csl_generator import print_list, getsigmas, get_theta_m_n_list\n",
    "from numpy import array\n",
    "from numpy import array, dot, round\n",
    "from numpy.linalg import inv, norm\n",
    "import numpy as np\n",
    "import glob\n",
    "import shutil\n",
    "import os\n",
    "from cellcalc import get_primitive_hkl, get_pri_vec_inplane, get_normal_index, MID\n",
    "from interface_generator import core, print_near_axis, convert_vector_index, write_trans_file\n",
    "from numpy import array, dot, round, cross, ceil\n",
    "from numpy.linalg import inv, det, norm\n",
    "from numpy import cross, dot, ceil\n",
    "from numpy.linalg import norm, inv\n",
    "\n",
    "import numpy as np\n",
    "import pandas as pd\n",
    "import shutil\n",
    "import os\n",
    "import math\n",
    "import glob\n",
    "from scipy.spatial import distance\n",
    "import matplotlib.pyplot as plt\n",
    "from numpy.linalg import inv, norm\n",
    "from numpy import dot\n",
    "\n",
    "from Element import Element"
   ]
  },
  {
   "cell_type": "code",
   "execution_count": 95,
   "metadata": {},
   "outputs": [
    {
     "name": "stdout",
     "output_type": "stream",
     "text": [
      "Sigma:     1  Theta:   0.00 \n",
      "Sigma:     3  Theta:  70.53 \n",
      "Sigma:     9  Theta:  38.94 \n",
      "Sigma:    11  Theta:  50.48 \n",
      "Sigma:    17  Theta:  86.63 \n",
      "Sigma:    19  Theta:  26.53 \n",
      "Sigma:    27  Theta:  31.59 \n",
      "Sigma:    33  Theta:  20.05 \n",
      "Sigma:    41  Theta:  55.88 \n",
      "Sigma:    43  Theta:  80.63 \n",
      "Sigma:    51  Theta:  16.10 \n",
      "Sigma:    57  Theta:  44.00 \n",
      "Sigma:    59  Theta:  45.98 \n",
      "Sigma:    67  Theta:  62.44 \n",
      "Sigma:    73  Theta:  13.44 \n",
      "Sigma:    81  Theta:  77.88 \n",
      "Sigma:    83  Theta:  17.86 \n",
      "Sigma:    89  Theta:  34.89 \n",
      "Sigma:    97  Theta:  61.02 \n",
      "Sigma:    99  Theta:  11.54 \n"
     ]
    }
   ],
   "source": [
    "print_list([1,1,0],100)"
   ]
  },
  {
   "cell_type": "code",
   "execution_count": 3,
   "metadata": {},
   "outputs": [],
   "source": [
    "def get_a_b(CSL, axis):\n",
    "    hkl_perp_axis = MID(CSL, axis)\n",
    "    a, b = get_pri_vec_inplane(hkl_perp_axis, CSL).T\n",
    "\n",
    "    if(norm(cross(axis,[1,0,0])) < 1e-8):\n",
    "        b = a + b\n",
    "    elif (norm(cross(axis,[1,1,1])) < 1e-8):\n",
    "        if dot(a,b) < 0:\n",
    "            b = a + b\n",
    "        b = a + b\n",
    "    if (abs(norm(a) - norm(b)) < 1e-8):\n",
    "        raise RuntimeError ('the tow vectors are identical!')\n",
    "\n",
    "    return a.T, b.T"
   ]
  },
  {
   "cell_type": "code",
   "execution_count": 4,
   "metadata": {},
   "outputs": [],
   "source": [
    "def get_STGB_MLs(CSL, n_1, n_2):\n",
    "    hkl_1 = MID(CSL, n_1)\n",
    "    hkl_2 = MID(CSL, n_2)\n",
    "\n",
    "    return hkl_1, hkl_2"
   ]
  },
  {
   "cell_type": "code",
   "execution_count": 269,
   "metadata": {
    "scrolled": true
   },
   "outputs": [
    {
     "name": "stdout",
     "output_type": "stream",
     "text": [
      "Warning!, this programme will rewrite the POSCAR file in this dir!\n"
     ]
    }
   ],
   "source": [
    "my_interface = core('Cu_mp-30_conventional_standard.cif','Cu_mp-30_conventional_standard.cif')"
   ]
  },
  {
   "cell_type": "code",
   "execution_count": 13,
   "metadata": {
    "scrolled": true
   },
   "outputs": [
    {
     "data": {
      "text/plain": [
       "array([[1, 0, 0],\n",
       "       [0, 1, 0],\n",
       "       [0, 0, 1]])"
      ]
     },
     "execution_count": 13,
     "metadata": {},
     "output_type": "execute_result"
    }
   ],
   "source": [
    "np.array(np.round(dot(inv(my_interface.lattice_1), my_interface.lattice_1),8),dtype = int)"
   ]
  },
  {
   "cell_type": "code",
   "execution_count": 17,
   "metadata": {
    "scrolled": true
   },
   "outputs": [
    {
     "data": {
      "text/plain": [
       "array([[1., 0., 0.],\n",
       "       [0., 1., 0.],\n",
       "       [0., 0., 1.]])"
      ]
     },
     "execution_count": 17,
     "metadata": {},
     "output_type": "execute_result"
    }
   ],
   "source": [
    "np.eye(3)"
   ]
  },
  {
   "cell_type": "code",
   "execution_count": 20,
   "metadata": {},
   "outputs": [
    {
     "data": {
      "text/plain": [
       "array([3.621262, 3.621262, 3.621262])"
      ]
     },
     "execution_count": 20,
     "metadata": {},
     "output_type": "execute_result"
    }
   ],
   "source": [
    "np.dot(my_interface.lattice_1,np.array([1,1,1]).T).T"
   ]
  },
  {
   "cell_type": "code",
   "execution_count": 270,
   "metadata": {},
   "outputs": [],
   "source": [
    "axis = np.array([1,1,0])"
   ]
  },
  {
   "cell_type": "code",
   "execution_count": 271,
   "metadata": {},
   "outputs": [],
   "source": [
    "# ここではconventional cellをmy_interface.lattice_1にして計算をしている\n",
    "# axis = np.array([1,1,1])\n",
    "a,b = get_pri_vec_inplane(axis, np.array(np.round(dot(inv(my_interface.lattice_1), my_interface.lattice_1),8),dtype = int)).T\n",
    "cell = np.column_stack((axis,a,b))\n",
    "my_interface.atoms_1, my_interface.elements_1,my_interface.lattice_1 = super_cell(cell,np.eye(3),my_interface.atoms_1,my_interface.elements_1)\n",
    "my_interface.atoms_2, my_interface.elements_2,my_interface.lattice_2 = my_interface.atoms_1.copy(), my_interface.elements_1.copy(),my_interface.lattice_1.copy()\n",
    "my_interface.lattice_2_TD = my_interface.lattice_1.copy()"
   ]
  },
  {
   "cell_type": "code",
   "execution_count": 4,
   "metadata": {},
   "outputs": [
    {
     "data": {
      "text/plain": [
       "array([ 0., -1.,  1.])"
      ]
     },
     "execution_count": 4,
     "metadata": {},
     "output_type": "execute_result"
    }
   ],
   "source": [
    "a"
   ]
  },
  {
   "cell_type": "code",
   "execution_count": 5,
   "metadata": {},
   "outputs": [
    {
     "data": {
      "text/plain": [
       "array([-1.,  0.,  1.])"
      ]
     },
     "execution_count": 5,
     "metadata": {},
     "output_type": "execute_result"
    }
   ],
   "source": [
    "b"
   ]
  },
  {
   "cell_type": "code",
   "execution_count": 6,
   "metadata": {},
   "outputs": [],
   "source": [
    "cell = np.column_stack((np.array([1,1,1]),a,b))"
   ]
  },
  {
   "cell_type": "code",
   "execution_count": 7,
   "metadata": {
    "scrolled": false
   },
   "outputs": [
    {
     "data": {
      "text/plain": [
       "array([[ 1.,  0., -1.],\n",
       "       [ 1., -1.,  0.],\n",
       "       [ 1.,  1.,  1.]])"
      ]
     },
     "execution_count": 7,
     "metadata": {},
     "output_type": "execute_result"
    }
   ],
   "source": [
    "cell"
   ]
  },
  {
   "cell_type": "code",
   "execution_count": null,
   "metadata": {},
   "outputs": [],
   "source": []
  },
  {
   "cell_type": "code",
   "execution_count": 9,
   "metadata": {},
   "outputs": [],
   "source": [
    "from interface_generator import super_cell"
   ]
  },
  {
   "cell_type": "code",
   "execution_count": 56,
   "metadata": {},
   "outputs": [
    {
     "data": {
      "text/plain": [
       "array([[0. , 0. , 0. ],\n",
       "       [0. , 0.5, 0.5],\n",
       "       [0.5, 0. , 0.5],\n",
       "       [0.5, 0.5, 0. ]])"
      ]
     },
     "execution_count": 56,
     "metadata": {},
     "output_type": "execute_result"
    }
   ],
   "source": [
    "my_interface.atoms_1"
   ]
  },
  {
   "cell_type": "code",
   "execution_count": 67,
   "metadata": {
    "scrolled": false
   },
   "outputs": [
    {
     "data": {
      "text/plain": [
       "(array([[ 0.00000000e+00,  0.00000000e+00,  0.00000000e+00],\n",
       "        [ 3.33333333e-01,  3.33333333e-01,  3.33333333e-01],\n",
       "        [ 6.66666667e-01,  6.66666667e-01,  6.66666667e-01],\n",
       "        [ 0.00000000e+00,  5.00000000e-01,  0.00000000e+00],\n",
       "        [ 3.33333333e-01,  8.33333333e-01,  3.33333333e-01],\n",
       "        [ 6.66666667e-01,  1.66666667e-01,  6.66666667e-01],\n",
       "        [-2.77555756e-17, -2.77555756e-17,  5.00000000e-01],\n",
       "        [ 3.33333333e-01,  3.33333333e-01,  8.33333333e-01],\n",
       "        [ 6.66666667e-01,  6.66666667e-01,  1.66666667e-01],\n",
       "        [-5.55111512e-17,  5.00000000e-01,  5.00000000e-01],\n",
       "        [ 6.66666667e-01,  1.66666667e-01,  1.66666667e-01],\n",
       "        [ 3.33333333e-01,  8.33333333e-01,  8.33333333e-01]]),\n",
       " array(['Cu', 'Cu', 'Cu', 'Cu', 'Cu', 'Cu', 'Cu', 'Cu', 'Cu', 'Cu', 'Cu',\n",
       "        'Cu'], dtype='<U2'),\n",
       " array([[ 1.,  0., -1.],\n",
       "        [ 1., -1.,  0.],\n",
       "        [ 1.,  1.,  1.]]))"
      ]
     },
     "execution_count": 67,
     "metadata": {},
     "output_type": "execute_result"
    }
   ],
   "source": [
    "super_cell(cell,np.eye(3),my_interface.atoms_1,my_interface.elements_1)"
   ]
  },
  {
   "cell_type": "code",
   "execution_count": 10,
   "metadata": {},
   "outputs": [],
   "source": [
    "my_interface.atoms_1, my_interface.elements_1,my_interface.lattice_1 = super_cell(cell,np.eye(3),my_interface.atoms_1,my_interface.elements_1)"
   ]
  },
  {
   "cell_type": "code",
   "execution_count": 61,
   "metadata": {},
   "outputs": [
    {
     "data": {
      "text/plain": [
       "array([[ 1.,  0., -1.],\n",
       "       [ 1., -1.,  0.],\n",
       "       [ 1.,  1.,  1.]])"
      ]
     },
     "execution_count": 61,
     "metadata": {},
     "output_type": "execute_result"
    }
   ],
   "source": [
    "my_interface.lattice_1"
   ]
  },
  {
   "cell_type": "code",
   "execution_count": 11,
   "metadata": {},
   "outputs": [],
   "source": [
    "my_interface.atoms_2, my_interface.elements_2,my_interface.lattice_2 = my_interface.atoms_1.copy(), my_interface.elements_1.copy(),my_interface.lattice_1.copy()"
   ]
  },
  {
   "cell_type": "code",
   "execution_count": 12,
   "metadata": {},
   "outputs": [],
   "source": [
    "my_interface.lattice_2_TD = my_interface.lattice_1.copy()"
   ]
  },
  {
   "cell_type": "code",
   "execution_count": null,
   "metadata": {},
   "outputs": [],
   "source": []
  },
  {
   "cell_type": "code",
   "execution_count": 13,
   "metadata": {},
   "outputs": [],
   "source": []
  },
  {
   "cell_type": "code",
   "execution_count": 110,
   "metadata": {
    "scrolled": false
   },
   "outputs": [
    {
     "name": "stdout",
     "output_type": "stream",
     "text": [
      "[1. 1. 0.]\n",
      "rotation matrix = [[ 0.88890228  0.11109772  0.44442101]\n",
      " [ 0.11109772  0.88890228 -0.44442101]\n",
      " [-0.44442101  0.44442101  0.77780456]]\n",
      "Congrates, we found an appx CSL!\n",
      "\n",
      "U1 = \n",
      "[[-1  0  0]\n",
      " [ 0 -1  4]\n",
      " [ 0 -2 -1]]; sigma_1 = 9\n",
      "\n",
      "U2 = \n",
      "[[-1  0  0]\n",
      " [ 0  1  4]\n",
      " [ 0 -2  1]]; sigma_2 = 9\n",
      "\n",
      "D = \n",
      "[[ 1.000e+00  0.000e+00  3.013e-05]\n",
      " [ 0.000e+00  1.000e+00 -3.013e-05]\n",
      " [-3.013e-05  3.013e-05  1.000e+00]]\n",
      "\n",
      "axis = [1. 1. 0.] ; theta = 38.94\n",
      "\n"
     ]
    }
   ],
   "source": [
    "# 自分が作ったLatticeでの軸、いまはｘ軸が(1,1,1)のLatticeを作って、その軸の周りに回転させようとしているから[1,0,0]\n",
    "# つまりsuper cellでの回転軸は常に(1,0,0)\n",
    "rotation_axis = [1,0,0]\n",
    "my_interface.parse_limit(du = 1e-4, S  = 1e-4, sgm1=100, sgm2=100, dd = 1e-4)\n",
    "\n",
    "#Do searching!\n",
    "#We already know that there is a CSL by rotation 180 degrees\n",
    "my_interface.search_one_position(rotation_axis,38.94,1,0.01)"
   ]
  },
  {
   "cell_type": "code",
   "execution_count": 104,
   "metadata": {},
   "outputs": [],
   "source": [
    "axis = np.array([1,1,0])"
   ]
  },
  {
   "cell_type": "code",
   "execution_count": 111,
   "metadata": {},
   "outputs": [],
   "source": [
    "# axis = np.array([1,1,1])\n",
    "# hkl_perp_axis = MID(my_interface.CSL, np.array([1,1,1]))\n",
    "hkl_perp_axis = MID(my_interface.CSL, axis)\n",
    "a, b = get_pri_vec_inplane(hkl_perp_axis, my_interface.CSL).T\n",
    "# b = a+b\n",
    "hkl_1 = MID(my_interface.lattice_1,a)\n",
    "hkl_2 = MID(my_interface.lattice_1,b)"
   ]
  },
  {
   "cell_type": "code",
   "execution_count": null,
   "metadata": {},
   "outputs": [],
   "source": [
    "# axis = np.array([1,1,1])\n",
    "# hkl_perp_axis = MID(my_interface.CSL, np.array([1,1,1]))\n",
    "hkl_perp_axis = MID(my_interface.CSL, np.array([1,1,1]))\n",
    "a, b = get_pri_vec_inplane(hkl_perp_axis, my_interface.CSL).T\n",
    "# b = a+b\n",
    "hkl_1 = MID(my_interface.lattice_1,a)\n",
    "hkl_2 = MID(my_interface.lattice_1,b)"
   ]
  },
  {
   "cell_type": "code",
   "execution_count": 112,
   "metadata": {},
   "outputs": [
    {
     "data": {
      "text/plain": [
       "array([ 2., -2., -1.])"
      ]
     },
     "execution_count": 112,
     "metadata": {},
     "output_type": "execute_result"
    }
   ],
   "source": [
    "a"
   ]
  },
  {
   "cell_type": "code",
   "execution_count": 113,
   "metadata": {},
   "outputs": [
    {
     "data": {
      "text/plain": [
       "array([ 1., -1.,  4.])"
      ]
     },
     "execution_count": 113,
     "metadata": {},
     "output_type": "execute_result"
    }
   ],
   "source": [
    "b"
   ]
  },
  {
   "cell_type": "code",
   "execution_count": 275,
   "metadata": {},
   "outputs": [
    {
     "name": "stdout",
     "output_type": "stream",
     "text": [
      "Sigma:     1  Theta:   0.00 \n",
      "Sigma:     3  Theta:  60.00 \n",
      "Sigma:     7  Theta:  38.21 \n",
      "Sigma:    13  Theta:  27.80 \n",
      "Sigma:    19  Theta:  46.83 \n",
      "Sigma:    21  Theta:  21.79 \n",
      "Sigma:    31  Theta:  17.90 \n",
      "Sigma:    37  Theta:  50.57 \n",
      "Sigma:    39  Theta:  32.20 \n",
      "Sigma:    43  Theta:  15.18 \n",
      "Sigma:    49  Theta:  43.57 \n",
      "Sigma:    57  Theta:  13.17 \n",
      "Sigma:    61  Theta:  52.66 \n",
      "Sigma:    67  Theta:  24.43 \n",
      "Sigma:    73  Theta:  11.64 \n",
      "Sigma:    79  Theta:  33.99 \n",
      "Sigma:    91  Theta:  10.42 \n",
      "Sigma:    93  Theta:  42.10 \n",
      "Sigma:    97  Theta:  30.59 \n"
     ]
    }
   ],
   "source": [
    "print_list([1,1,1],100)"
   ]
  },
  {
   "cell_type": "code",
   "execution_count": 276,
   "metadata": {},
   "outputs": [
    {
     "name": "stdout",
     "output_type": "stream",
     "text": [
      "Warning!, this programme will rewrite the POSCAR file in this dir!\n"
     ]
    }
   ],
   "source": [
    "my_interface = core('Cu_mp-30_conventional_standard.cif','Cu_mp-30_conventional_standard.cif')"
   ]
  },
  {
   "cell_type": "code",
   "execution_count": 277,
   "metadata": {},
   "outputs": [],
   "source": [
    "axis = np.array([1,1,1])"
   ]
  },
  {
   "cell_type": "code",
   "execution_count": 278,
   "metadata": {},
   "outputs": [],
   "source": [
    "# ここではconventional cellをmy_interface.lattice_1にして計算をしている\n",
    "# axis = np.array([1,1,1])\n",
    "a,b = get_pri_vec_inplane(axis, np.array(np.round(dot(inv(my_interface.lattice_1), my_interface.lattice_1),8),dtype = int)).T\n",
    "cell = np.column_stack((axis,a,b))\n",
    "my_interface.atoms_1, my_interface.elements_1,my_interface.lattice_1 = super_cell(cell,np.eye(3),my_interface.atoms_1,my_interface.elements_1)\n",
    "my_interface.atoms_2, my_interface.elements_2,my_interface.lattice_2 = my_interface.atoms_1.copy(), my_interface.elements_1.copy(),my_interface.lattice_1.copy()\n",
    "my_interface.lattice_2_TD = my_interface.lattice_1.copy()"
   ]
  },
  {
   "cell_type": "code",
   "execution_count": 279,
   "metadata": {
    "scrolled": false
   },
   "outputs": [
    {
     "name": "stdout",
     "output_type": "stream",
     "text": [
      "[1. 1. 1.]\n",
      "rotation matrix = [[ 0.92305398 -0.23079544  0.30774146]\n",
      " [ 0.30774146  0.92305398 -0.23079544]\n",
      " [-0.23079544  0.30774146  0.92305398]]\n",
      "Congrates, we found an appx CSL!\n",
      "\n",
      "U1 = \n",
      "[[-1  0  0]\n",
      " [ 0  4  1]\n",
      " [ 0 -1  3]]; sigma_1 = 13\n",
      "\n",
      "U2 = \n",
      "[[-1  0  0]\n",
      " [ 0  3 -1]\n",
      " [ 0  1  4]]; sigma_2 = 13\n",
      "\n",
      "D = \n",
      "[[ 1.00e+00  4.26e-05 -4.26e-05]\n",
      " [-4.26e-05  1.00e+00  4.26e-05]\n",
      " [ 4.26e-05 -4.26e-05  1.00e+00]]\n",
      "\n",
      "axis = [1. 1. 1.] ; theta = 27.8\n",
      "\n"
     ]
    }
   ],
   "source": [
    "# 自分が作ったLatticeでの軸、いまはｘ軸が(1,1,1)のLatticeを作って、その軸の周りに回転させようとしているから[1,0,0]\n",
    "# つまりsuper cellでの回転軸は常に(1,0,0)\n",
    "rotation_axis = [1,0,0]\n",
    "my_interface.parse_limit(du = 1e-4, S  = 1e-4, sgm1=100, sgm2=100, dd = 1e-4)\n",
    "\n",
    "#Do searching!\n",
    "#We already know that there is a CSL by rotation 180 degrees\n",
    "my_interface.search_one_position(rotation_axis,27.80,1,0.01)"
   ]
  },
  {
   "cell_type": "code",
   "execution_count": 280,
   "metadata": {},
   "outputs": [],
   "source": [
    "# axis = np.array([1,1,1])\n",
    "# hkl_perp_axis = MID(my_interface.CSL, np.array([1,1,1]))\n",
    "hkl_perp_axis = MID(my_interface.CSL, axis)\n",
    "a, b = get_pri_vec_inplane(hkl_perp_axis, my_interface.CSL).T\n",
    "# b = a+b\n",
    "hkl_1 = MID(my_interface.lattice_1,a)\n",
    "hkl_2 = MID(my_interface.lattice_1,b)"
   ]
  },
  {
   "cell_type": "code",
   "execution_count": null,
   "metadata": {},
   "outputs": [],
   "source": []
  },
  {
   "cell_type": "code",
   "execution_count": 281,
   "metadata": {},
   "outputs": [
    {
     "name": "stdout",
     "output_type": "stream",
     "text": [
      "cell 1:\n",
      "[[ 0 -1  0]\n",
      " [-4  0 -2]\n",
      " [ 1  0  7]]\n",
      "cell 2:\n",
      "[[ 0 -1  0]\n",
      " [-4  0 -2]\n",
      " [ 1  0  7]]\n"
     ]
    }
   ],
   "source": [
    "my_interface.compute_bicrystal(hkl_1, normal_ortho = True, plane_ortho = True, lim = 50, tol = 1e-2)"
   ]
  },
  {
   "cell_type": "code",
   "execution_count": 282,
   "metadata": {
    "scrolled": true
   },
   "outputs": [
    {
     "name": "stdout",
     "output_type": "stream",
     "text": [
      "[[ 0 -1  0]\n",
      " [-4  0 -2]\n",
      " [ 1  0  7]]\n",
      "[[ 0 -1  0]\n",
      " [-3  0 -5]\n",
      " [-1  0  7]]\n",
      "num of atoms1 = 312\n",
      "num of atoms2 = 312\n",
      "[[ 1.01980390e+01 -2.22044605e-16 -3.77475828e-15]\n",
      " [ 4.44089210e-16  3.46410162e+00 -2.66453526e-15]\n",
      " [ 2.22044605e-16  4.44089210e-16  1.76635217e+01]]\n"
     ]
    }
   ],
   "source": [
    "my_interface.get_bicrystal(xyz_1 = [2,2,2], xyz_2 = [2,2,2],filetype=\"LAMMPS\",filename=\"atominfile\")"
   ]
  },
  {
   "cell_type": "code",
   "execution_count": 588,
   "metadata": {
    "scrolled": false
   },
   "outputs": [
    {
     "name": "stdout",
     "output_type": "stream",
     "text": [
      "Warning!, this programme will rewrite the POSCAR file in this dir!\n"
     ]
    }
   ],
   "source": [
    "my_interface = core('Cu_mp-30_conventional_standard.cif','Cu_mp-30_conventional_standard.cif')"
   ]
  },
  {
   "cell_type": "code",
   "execution_count": 614,
   "metadata": {},
   "outputs": [
    {
     "name": "stdout",
     "output_type": "stream",
     "text": [
      "Warning!, this programme will rewrite the POSCAR file in this dir!\n"
     ]
    }
   ],
   "source": [
    "my_interface = core(\"Fe_mp-13_conventional_standard.cif\",\"Fe_mp-13_conventional_standard.cif\")"
   ]
  },
  {
   "cell_type": "code",
   "execution_count": 615,
   "metadata": {},
   "outputs": [],
   "source": [
    "axis = np.array([1,1,0])"
   ]
  },
  {
   "cell_type": "code",
   "execution_count": 616,
   "metadata": {
    "scrolled": true
   },
   "outputs": [
    {
     "name": "stdout",
     "output_type": "stream",
     "text": [
      "Sigma:     1  Theta:   0.00 \n",
      "Sigma:     3  Theta:  70.53 \n",
      "Sigma:     9  Theta:  38.94 \n",
      "Sigma:    11  Theta:  50.48 \n",
      "Sigma:    17  Theta:  86.63 \n",
      "Sigma:    19  Theta:  26.53 \n",
      "Sigma:    27  Theta:  31.59 \n",
      "Sigma:    33  Theta:  20.05 \n",
      "Sigma:    41  Theta:  55.88 \n",
      "Sigma:    43  Theta:  80.63 \n",
      "Sigma:    51  Theta:  16.10 \n",
      "Sigma:    57  Theta:  44.00 \n",
      "Sigma:    59  Theta:  45.98 \n",
      "Sigma:    67  Theta:  62.44 \n",
      "Sigma:    73  Theta:  13.44 \n",
      "Sigma:    81  Theta:  77.88 \n",
      "Sigma:    83  Theta:  17.86 \n",
      "Sigma:    89  Theta:  34.89 \n",
      "Sigma:    97  Theta:  61.02 \n",
      "Sigma:    99  Theta:  11.54 \n"
     ]
    }
   ],
   "source": [
    "print_list(axis,100)"
   ]
  },
  {
   "cell_type": "code",
   "execution_count": 617,
   "metadata": {},
   "outputs": [],
   "source": [
    "# ここではconventional cellをmy_interface.lattice_1にして計算をしている\n",
    "# axis = np.array([1,1,1])\n",
    "a,b = get_pri_vec_inplane(axis, np.array(np.round(dot(inv(my_interface.lattice_1), my_interface.lattice_1),8),dtype = int)).T\n",
    "cell = np.column_stack((axis,a,b))\n",
    "my_interface.atoms_1, my_interface.elements_1,my_interface.lattice_1 = super_cell(cell,my_interface.lattice_1,my_interface.atoms_1,my_interface.elements_1)\n",
    "my_interface.atoms_2, my_interface.elements_2,my_interface.lattice_2 = my_interface.atoms_1.copy(), my_interface.elements_1.copy(),my_interface.lattice_1.copy()\n",
    "my_interface.lattice_2_TD = my_interface.lattice_1.copy()"
   ]
  },
  {
   "cell_type": "code",
   "execution_count": 618,
   "metadata": {
    "scrolled": false
   },
   "outputs": [
    {
     "name": "stdout",
     "output_type": "stream",
     "text": [
      "[2.84005168e+00 2.84005168e+00 3.47806020e-16]\n",
      "rotation matrix = [[ 0.88890228  0.11109772  0.44442101]\n",
      " [ 0.11109772  0.88890228 -0.44442101]\n",
      " [-0.44442101  0.44442101  0.77780456]]\n",
      "Congrates, we found an appx CSL!\n",
      "\n",
      "U1 = \n",
      "[[-1  0  0]\n",
      " [ 0 -1  4]\n",
      " [ 0 -2 -1]]; sigma_1 = 9\n",
      "\n",
      "U2 = \n",
      "[[-1  0  0]\n",
      " [ 0  1  4]\n",
      " [ 0 -2  1]]; sigma_2 = 9\n",
      "\n",
      "D = \n",
      "[[ 1.000e+00  0.000e+00  3.013e-05]\n",
      " [ 0.000e+00  1.000e+00 -3.013e-05]\n",
      " [-3.013e-05  3.013e-05  1.000e+00]]\n",
      "\n",
      "axis = [2.84005168e+00 2.84005168e+00 3.47806020e-16] ; theta = 38.94\n",
      "\n"
     ]
    }
   ],
   "source": [
    "# 自分が作ったLatticeでの軸、いまはｘ軸が(1,1,1)のLatticeを作って、その軸の周りに回転させようとしているから[1,0,0]\n",
    "# つまりsuper cellでの回転軸は常に(1,0,0)\n",
    "rotation_axis = [1,0,0]\n",
    "my_interface.parse_limit(du = 1e-4, S  = 1e-4, sgm1=100, sgm2=100, dd = 1e-4)\n",
    "\n",
    "#Do searching!\n",
    "#We already know that there is a CSL by rotation 180 degrees\n",
    "my_interface.search_one_position(rotation_axis,38.94,1,0.01)"
   ]
  },
  {
   "cell_type": "code",
   "execution_count": 619,
   "metadata": {},
   "outputs": [],
   "source": [
    "# axis = np.array([1,1,1])\n",
    "# hkl_perp_axis = MID(my_interface.CSL, np.array([1,1,1]))\n",
    "hkl_perp_axis = MID(my_interface.CSL, axis)\n",
    "a, b = get_pri_vec_inplane(hkl_perp_axis, my_interface.CSL).T\n",
    "# b = a+b\n",
    "hkl_1 = MID(my_interface.lattice_1,a)\n",
    "hkl_2 = MID(my_interface.lattice_1,b)"
   ]
  },
  {
   "cell_type": "code",
   "execution_count": 620,
   "metadata": {},
   "outputs": [
    {
     "name": "stdout",
     "output_type": "stream",
     "text": [
      "cell 1:\n",
      "[[ 0 -1  0]\n",
      " [ 1  0  4]\n",
      " [ 2  0 -1]]\n",
      "cell 2:\n",
      "[[ 0 -1  0]\n",
      " [ 1  0  4]\n",
      " [ 2  0 -1]]\n"
     ]
    }
   ],
   "source": [
    "my_interface.compute_bicrystal(hkl_1, normal_ortho = True, plane_ortho = True, lim = 50, tol = 1e-2)"
   ]
  },
  {
   "cell_type": "code",
   "execution_count": 621,
   "metadata": {},
   "outputs": [
    {
     "name": "stdout",
     "output_type": "stream",
     "text": [
      "[[ 0 -1  0]\n",
      " [ 1  0  4]\n",
      " [ 2  0 -1]]\n",
      "[[ 0 -1  0]\n",
      " [-1  0  4]\n",
      " [ 2  0  1]]\n",
      "num of atoms1 = 36\n",
      "num of atoms2 = 36\n",
      "[[ 1.70403101e+01 -5.28936393e-16  1.95383952e-16]\n",
      " [-7.12597445e-16  4.01643960e+00 -7.67777869e-16]\n",
      " [-5.60180554e-16  2.83941496e-17  1.20493188e+01]]\n"
     ]
    }
   ],
   "source": [
    "my_interface.get_bicrystal(xyz_1 = [2,1,1], xyz_2 = [2,1,1],filetype=\"LAMMPS\",filename=\"atominfile\")"
   ]
  },
  {
   "cell_type": "code",
   "execution_count": 624,
   "metadata": {},
   "outputs": [
    {
     "data": {
      "text/plain": [
       "105.85064159"
      ]
     },
     "execution_count": 624,
     "metadata": {},
     "output_type": "execute_result"
    }
   ],
   "source": [
    "105.54022915+0.31041244"
   ]
  },
  {
   "cell_type": "code",
   "execution_count": 625,
   "metadata": {},
   "outputs": [
    {
     "data": {
      "text/plain": [
       "105.85065159"
      ]
     },
     "execution_count": 625,
     "metadata": {},
     "output_type": "execute_result"
    }
   ],
   "source": [
    "105.85064159+1e-5"
   ]
  },
  {
   "cell_type": "code",
   "execution_count": 627,
   "metadata": {},
   "outputs": [
    {
     "data": {
      "text/plain": [
       "109.201869215"
      ]
     },
     "execution_count": 627,
     "metadata": {},
     "output_type": "execute_result"
    }
   ],
   "source": [
    "217.98292197/2+0.21040823"
   ]
  },
  {
   "cell_type": "code",
   "execution_count": 628,
   "metadata": {},
   "outputs": [
    {
     "data": {
      "text/plain": [
       "109.201879215"
      ]
     },
     "execution_count": 628,
     "metadata": {},
     "output_type": "execute_result"
    }
   ],
   "source": [
    "109.201869215+1e-5"
   ]
  },
  {
   "cell_type": "code",
   "execution_count": 641,
   "metadata": {},
   "outputs": [],
   "source": [
    "def read_atomin_id(filename):\n",
    "    #read atom positions from POSCAR\n",
    "    with open (f\"{filename}\",'r') as f:\n",
    "        lines = f.readlines()\n",
    "    atoms = np.array([0,0,0,0,0])\n",
    "    for i in range(14,len(lines)):\n",
    "        atoms = np.vstack((atoms,np.array(lines[i].split(),dtype = float)))\n",
    "    atoms = np.delete(atoms,0,axis= 0)\n",
    "    atoms = np.delete(atoms,[0],axis=1)\n",
    "    a = float(lines[6].split()[1])\n",
    "    b = float(lines[7].split()[1])\n",
    "    c = float(lines[8].split()[1])\n",
    "    return a, b, c, atoms"
   ]
  },
  {
   "cell_type": "code",
   "execution_count": 711,
   "metadata": {},
   "outputs": [],
   "source": [
    "dirname_list = [\"9_7_0\",\"11_9_0\",\"12_5_0\"]"
   ]
  },
  {
   "cell_type": "code",
   "execution_count": 712,
   "metadata": {},
   "outputs": [],
   "source": [
    "for dirname in dirname_list:\n",
    "    a, b, c, atoms = read_atomin_id(f\"{dirname}/atominfile3\")\n",
    "    add_atoms = atoms[atoms[:,1]==np.sort(np.unique(atoms[:,1]))[1]]\n",
    "    add_atoms[:,1] = add_atoms[:,1] + a/2\n",
    "    add_atoms[:,0] = 2\n",
    "    atoms_tot = np.vstack((atoms,add_atoms))\n",
    "    Write_to_lammps(a,b,c,atoms_tot,f\"{dirname}/atominfile4\")\n",
    "    new_cell_boundary = np.unique(np.round(add_atoms[:,1],5))[0]\n",
    "    tol = 1e-5\n",
    "    new_cell_boundary = new_cell_boundary + tol\n",
    "    rewrite_blockfile(new_cell_boundary,dirname)"
   ]
  },
  {
   "cell_type": "code",
   "execution_count": 722,
   "metadata": {},
   "outputs": [],
   "source": [
    "dirname = \"11_6_0\"\n",
    "a, b, c, atoms = read_atomin_id(f\"{dirname}/atominfile3\")"
   ]
  },
  {
   "cell_type": "code",
   "execution_count": 723,
   "metadata": {},
   "outputs": [],
   "source": [
    "add_atoms = atoms[atoms[:,1]==np.sort(np.unique(atoms[:,1]))[1]]\n",
    "add_atoms[:,1] = add_atoms[:,1] + a/2"
   ]
  },
  {
   "cell_type": "code",
   "execution_count": 724,
   "metadata": {},
   "outputs": [],
   "source": [
    "add_atoms[:,0] = 2"
   ]
  },
  {
   "cell_type": "code",
   "execution_count": 725,
   "metadata": {},
   "outputs": [],
   "source": [
    "atoms_tot = np.vstack((atoms,add_atoms))"
   ]
  },
  {
   "cell_type": "code",
   "execution_count": 726,
   "metadata": {},
   "outputs": [],
   "source": [
    "Write_to_lammps(a,b,c,atoms_tot,f\"{dirname}/atominfile4\")"
   ]
  },
  {
   "cell_type": "code",
   "execution_count": 727,
   "metadata": {},
   "outputs": [],
   "source": [
    "new_cell_boundary = np.unique(np.round(add_atoms[:,1],5))[0]"
   ]
  },
  {
   "cell_type": "code",
   "execution_count": 728,
   "metadata": {},
   "outputs": [],
   "source": [
    "tol = 1e-5"
   ]
  },
  {
   "cell_type": "code",
   "execution_count": 729,
   "metadata": {},
   "outputs": [],
   "source": [
    "new_cell_boundary = new_cell_boundary + tol"
   ]
  },
  {
   "cell_type": "code",
   "execution_count": 730,
   "metadata": {},
   "outputs": [],
   "source": [
    "rewrite_blockfile(new_cell_boundary,dirname)"
   ]
  },
  {
   "cell_type": "code",
   "execution_count": null,
   "metadata": {},
   "outputs": [],
   "source": []
  },
  {
   "cell_type": "code",
   "execution_count": 693,
   "metadata": {},
   "outputs": [],
   "source": [
    "def replace_func(dirname,replace_set):\n",
    "    target, replace = replace_set\n",
    "    \n",
    "    with open(f\"{dirname}/blockfile\", 'r') as f1:\n",
    "        tmp_list =[]\n",
    "        for row in f1:\n",
    "            if row.find(target) != -1:\n",
    "                tmp_list.append(replace)\n",
    "            else:\n",
    "                tmp_list.append(row)\n",
    "    \n",
    "    with open(f\"{dirname}/blockfile2\", 'w') as f2:\n",
    "        for i in range(len(tmp_list)):\n",
    "            f2.write(tmp_list[i])"
   ]
  },
  {
   "cell_type": "code",
   "execution_count": 694,
   "metadata": {},
   "outputs": [],
   "source": [
    "def rewrite_blockfile(new_cell_boundary,dirname):\n",
    "    proto2_file_path = os.path.join(os.getcwd(),dirname)\n",
    "    replace_setA = ('region right block', f'region right block {new_cell_boundary} EDGE EDGE EDGE EDGE EDGE units box\\n') \n",
    "    replace_func(dirname,replace_setA)"
   ]
  },
  {
   "cell_type": "code",
   "execution_count": 695,
   "metadata": {},
   "outputs": [],
   "source": []
  },
  {
   "cell_type": "code",
   "execution_count": null,
   "metadata": {},
   "outputs": [],
   "source": []
  },
  {
   "cell_type": "code",
   "execution_count": 700,
   "metadata": {},
   "outputs": [],
   "source": [
    "def Write_to_lammps(a,b,c,supercell_atoms,filename):\n",
    "    dim = np.array([1,1,1])\n",
    "    X = supercell_atoms.copy()\n",
    "\n",
    "    NumberAt = len(X) \n",
    "\n",
    "    dimx, dimy, dimz = dim\n",
    "\n",
    "    xlo = 0.00000000\n",
    "    xhi = a\n",
    "    ylo = 0.00000000\n",
    "    yhi = b \n",
    "    zlo = 0.00000000\n",
    "    zhi = c\n",
    "\n",
    "    yz = 0.0\n",
    "\n",
    "    Counter = np.arange(1, NumberAt + 1).reshape(1, -1)\n",
    "\n",
    "    # data = np.concatenate((X_new, Y_new))\n",
    "    FinalMat = np.concatenate((Counter.T, X), axis=1)\n",
    "\n",
    "    with open(filename, 'w') as f:\n",
    "        f.write('#Header \\n \\n')\n",
    "        f.write('{} atoms \\n \\n'.format(NumberAt))\n",
    "        f.write('2 atom types \\n \\n')\n",
    "        f.write('{0:.8f} {1:.8f} xlo xhi \\n'.format(xlo, xhi))\n",
    "        f.write('{0:.8f} {1:.8f} ylo yhi \\n'.format(ylo, yhi))\n",
    "        f.write('{0:.8f} {1:.8f} zlo zhi \\n\\n'.format(zlo, zhi))\n",
    "        f.write('{0:.8f} {1:.8f} {2:.8f} xy xz yz \\n\\n'.format(0, 0, yz))            \n",
    "        f.write('Atoms \\n \\n')\n",
    "        np.savetxt(f, FinalMat, fmt='%i %i %.8f %.8f %.8f')\n",
    "    f.close()"
   ]
  },
  {
   "cell_type": "code",
   "execution_count": 7,
   "metadata": {},
   "outputs": [],
   "source": [
    "# CSLとaxisのlattice_1の直行座標系\n",
    "def get_a_b(CSL, axis):\n",
    "    hkl_perp_axis = MID(CSL, axis)\n",
    "    a, b = get_pri_vec_inplane(hkl_perp_axis, CSL).T\n",
    "\n",
    "    if(norm(cross(axis,[1,0,0])) < 1e-8):\n",
    "        b = a + b\n",
    "    elif (norm(cross(axis,[1,1,1])) < 1e-8):\n",
    "        if dot(a,b) < 0:\n",
    "            b = a + b\n",
    "        b = a + b\n",
    "    if (abs(norm(a) - norm(b)) < 1e-8):\n",
    "        raise RuntimeError ('the tow vectors are identical!')\n",
    "\n",
    "    return a.T, b.T"
   ]
  },
  {
   "cell_type": "markdown",
   "metadata": {},
   "source": [
    "symmetrical tilt のときのhklの計算の仕方"
   ]
  },
  {
   "cell_type": "code",
   "execution_count": 90,
   "metadata": {},
   "outputs": [],
   "source": []
  },
  {
   "cell_type": "code",
   "execution_count": 85,
   "metadata": {},
   "outputs": [
    {
     "data": {
      "text/plain": [
       "array([0, 7, 2])"
      ]
     },
     "execution_count": 85,
     "metadata": {},
     "output_type": "execute_result"
    }
   ],
   "source": [
    "hkl_1"
   ]
  },
  {
   "cell_type": "code",
   "execution_count": 86,
   "metadata": {},
   "outputs": [
    {
     "data": {
      "text/plain": [
       "array([0, 4, 3])"
      ]
     },
     "execution_count": 86,
     "metadata": {},
     "output_type": "execute_result"
    }
   ],
   "source": [
    "hkl_2"
   ]
  },
  {
   "cell_type": "code",
   "execution_count": 93,
   "metadata": {
    "scrolled": true
   },
   "outputs": [
    {
     "name": "stdout",
     "output_type": "stream",
     "text": [
      "cell 1:\n",
      "[[ 0 -1  0]\n",
      " [ 3  0  1]\n",
      " [-1  0 -5]]\n",
      "cell 2:\n",
      "[[ 0 -1  0]\n",
      " [ 3  0  1]\n",
      " [-1  0 -5]]\n"
     ]
    }
   ],
   "source": []
  },
  {
   "cell_type": "code",
   "execution_count": 94,
   "metadata": {},
   "outputs": [
    {
     "name": "stdout",
     "output_type": "stream",
     "text": [
      "[[ 0 -1  0]\n",
      " [ 3  0  1]\n",
      " [-1  0 -5]]\n",
      "[[ 0 -1  0]\n",
      " [ 2  0  4]\n",
      " [ 1  0 -5]]\n",
      "num of atoms1 = 168\n",
      "num of atoms2 = 168\n",
      "[[ 7.48331477e+00 -4.44089210e-16 -8.88178420e-16]\n",
      " [ 0.00000000e+00  3.46410162e+00 -8.88178420e-16]\n",
      " [ 0.00000000e+00  2.22044605e-16  1.29614814e+01]]\n"
     ]
    }
   ],
   "source": []
  },
  {
   "cell_type": "code",
   "execution_count": null,
   "metadata": {},
   "outputs": [],
   "source": []
  },
  {
   "cell_type": "code",
   "execution_count": null,
   "metadata": {},
   "outputs": [],
   "source": []
  },
  {
   "cell_type": "code",
   "execution_count": null,
   "metadata": {},
   "outputs": [],
   "source": []
  },
  {
   "cell_type": "code",
   "execution_count": null,
   "metadata": {},
   "outputs": [],
   "source": [
    "def overwrite_supercell(interface,axis_input,n):\n",
    "    \"\"\"\n",
    "    axis_input: 自分が入れる回転軸のpremitive cellでの表示\n",
    "    n: 粒界面を指定するベクトルの直交座標表示\n",
    "    \"\"\"\n",
    "    axis_cart = dot(interface.lattice_1, axis_input)\n",
    "    axis_int = np.array(np.round(dot(inv(interface.conv_lattice_1), axis_cart),8),dtype = int)\n",
    "\n",
    "    n_1_int = np.array(np.round(dot(inv(interface.conv_lattice_1), n),8),dtype = int)\n",
    "    n_1_pre = np.array(np.round(dot(inv(interface.lattice_1),n),8),dtype = int)\n",
    "    v3 = cross(n,axis_int)\n",
    "    #print(interface.lattice_1)\n",
    "    v3_int = np.array(np.round(dot(inv(interface.lattice_1), v3),8),dtype = int)\n",
    "    v3_int_reduced = v3_int/abs(np.gcd.reduce(v3_int))\n",
    "    bicrystal_U1 = np.column_stack([n_1_pre,axis_input])\n",
    "    bicrystal_U1 = np.column_stack([bicrystal_U1,v3_int_reduced])\n",
    "    interface.bicrystal_U1 = bicrystal_U1\n",
    "    supercell = dot(interface.lattice_1,bicrystal_U1)\n",
    "\n",
    "    bicrystal_U2 = np.array(np.round(dot(inv(interface.lattice_2_TD), supercell),8),dtype = int)\n",
    "    interface.bicrystal_U2 = bicrystal_U2"
   ]
  },
  {
   "cell_type": "code",
   "execution_count": null,
   "metadata": {},
   "outputs": [],
   "source": [
    "def get_gb_files(interface, hkl, axis, sigma, axis_name, hkl_name, ab, axis_num, ab_num, bond_length,n,surface,name,element,stgb):\n",
    "    interface.compute_bicrystal(hkl, normal_ortho = True, plane_ortho = True, lim = 50, tol = 1e-10)\n",
    "#    print(f'U1 is {interface.bicrystal_U1}')\n",
    "    half_cell = dot(interface.lattice_1, interface.bicrystal_U1)\n",
    "#    print(f'lattice1_2 is {interface.lattice_1}')\n",
    "    x,y,z = get_expansion_xyz(half_cell)\n",
    "    axis_x, axis_y, axis_z = axis_name\n",
    "    axis_name_num = 100*axis_x + 10*axis_y +axis_z\n",
    "    hkl_name = np.array(hkl_name, dtype=int)\n",
    "    hkl_name_num = hkl_name.copy()\n",
    "    hkl_name = np.array(np.sort(np.abs(hkl_name))[::-1]/np.gcd.reduce(np.sort(np.abs(hkl_name))[::-1]),dtype=int)\n",
    "    hkl_x, hkl_y, hkl_z = hkl_name\n",
    "    dirname = f\"{str(hkl_x)}_{str(hkl_y)}_{str(hkl_z)}_{hkl_name_num[0]}_{hkl_name_num[1]}_{hkl_name_num[2]}_gb\"\n",
    "\n",
    "    if stgb==False:\n",
    "        dirname = f\"{str(hkl_x)}_{str(hkl_y)}_{str(hkl_z)}\"\n",
    "        print(\"====================================================\")\n",
    "    else:\n",
    "        pass\n",
    "    os.makedirs(dirname,exist_ok=True)\n",
    "    os.chdir(dirname)\n",
    "\n",
    "    overwrite_supercell(interface,axis,n)\n",
    "\n",
    "    \n",
    "    if (axis_name == [1,1,1]):    \n",
    "        interface.get_bicrystal(xyz_1 = [x,y,z], xyz_2 =[x,y,z],filename = 'atominfile', filetype='LAMMPS',mirror = True)\n",
    "    else:\n",
    "        interface.get_bicrystal(xyz_1 = [x,y,z], xyz_2 =[x,y,z],filename = 'atominfile', filetype='LAMMPS',mirror = False)\n",
    "    \n",
    "    CNID_hkl = dot(inv(interface.conv_lattice_1),interface.CNID)\n",
    "\n",
    "    \n",
    "    eps = 1e-5\n",
    "    define_bicrystal_regions(interface.xhi)\n",
    "\n",
    "    CNID = dot(interface.orient, interface.CNID)  \n",
    "    \n",
    "    v1 = np.array([0,1.,0])*CNID[:,0][1] + np.array([0,0,1.])*CNID[:,0][2]\n",
    "    v2 = np.array([0,1.,0])*abs(CNID[:,1][1]) + np.array([0,0,1.])*abs(CNID[:,1][2])\n",
    "    v2 = -v2\n",
    "\n",
    "\n",
    "    \n",
    "    n1 = int(ceil(norm(v1)/0.2))\n",
    "    n2 = int(ceil(norm(v2)/0.2))\n",
    "    write_trans_file(v1,v2,n1,n2)\n",
    "\n",
    "    with open(f\"{name}.meam\",\"w\") as f:\n",
    "        f.writelines(element.meam())\n",
    "\n",
    "    with open(\"library.meam\",\"w\") as f:\n",
    "        f.writelines(element.library_meam())\n",
    "\n",
    "    if stgb==False:\n",
    "        with open(\"proto.in\",\"w\") as f:\n",
    "            f.writelines(element.proto())\n",
    "    else:\n",
    "        pass\n",
    "\n",
    "    os.chdir(os.pardir)"
   ]
  },
  {
   "cell_type": "code",
   "execution_count": null,
   "metadata": {},
   "outputs": [],
   "source": [
    "def define_bicrystal_regions(xhi):\n",
    "    tol = 1e-5\n",
    "    \"\"\"\n",
    "    generate a file defining some regions in the LAMMPS and define the atoms\n",
    "    inside these regions into some groups.\n",
    "    argument:\n",
    "    region_names --- list of name of regions\n",
    "    region_los --- list of the low bounds\n",
    "    region_his --- list of the hi bounds\n",
    "    \"\"\"\n",
    "    end_fixbulk1 = xhi/2-30\n",
    "    start_fixbulk2 = xhi/2+30\n",
    "    start_middle = xhi/2-20\n",
    "    end_middle = xhi/2+20\n",
    "    start_right = xhi/2 + tol\n",
    "    start_bulk = 160\n",
    "    end_bulk = 165\n",
    "\n",
    "\n",
    "    with open('blockfile', 'w') as fb:\n",
    "        fb.write('region fixbulk1 block EDGE {0:.16f} EDGE EDGE EDGE EDGE units box \\n'.\\\n",
    "        format(end_fixbulk1))\n",
    "        fb.write('region fixbulk2 block {0:.16f} EDGE EDGE EDGE EDGE EDGE units box \\n'.\\\n",
    "        format(start_fixbulk2))\n",
    "        fb.write('region middle block {0:.16f} {1:.16f} EDGE EDGE EDGE EDGE units box \\n'.\\\n",
    "        format(start_middle,end_middle))\n",
    "        fb.write('region right block {0:.16f} EDGE EDGE EDGE EDGE EDGE units box \\n'.\\\n",
    "        format(start_right))\n",
    "        fb.write('region bulk block {0:.16f} {1:.16f} EDGE EDGE EDGE EDGE units box \\n'.\\\n",
    "        format(start_bulk,end_bulk))\n",
    "        fb.write('group fixbulk1 region fixbulk1 \\n')\n",
    "        fb.write('group fixbulk2 region fixbulk2 \\n')\n",
    "        fb.write('group middle region middle \\n')\n",
    "        fb.write('group right region right \\n')\n",
    "        fb.write('group bulk region bulk \\n')"
   ]
  },
  {
   "cell_type": "code",
   "execution_count": null,
   "metadata": {},
   "outputs": [],
   "source": [
    "def get_all_STGBs(axis_list, theta_list, sigma_list,name,element,max_sigma,stgb):\n",
    "    eps = 1e-5\n",
    "    cif_filename = glob.glob(f\"C:/Users/hatay/calc/python_script/{name}/*.cif\")[0]\n",
    "    my_interface = core(cif_filename, cif_filename)\n",
    "    my_interface.parse_limit(du = 1e-4, S  =  1e-4, sgm1=max_sigma, sgm2=max_sigma, dd =  1e-4)\n",
    "    factor = element.getLatP()/(2*norm(my_interface.lattice_1[0,0]))\n",
    "    my_interface.lattice_1 =  my_interface.lattice_1*factor\n",
    "    my_interface.lattice_2 =  my_interface.lattice_2*factor\n",
    "    my_interface.conv_lattice_1 =  my_interface.conv_lattice_1*factor\n",
    "    my_interface.conv_lattice_2 =  my_interface.conv_lattice_2*factor  \n",
    "    count = 1\n",
    "\n",
    "    LatP = element.getLatP()\n",
    "    bond_length = LatP/np.sqrt(2)\n",
    "    coodinates = 12\n",
    "    cut_off = 1.05    \n",
    "    surface = Surface(LatP,bond_length,coodinates,cut_off)\n",
    "    \n",
    "    for i in range(len(axis_list)):\n",
    "        axis = axis_list[i]\n",
    "        axis_name = axis_list[i]\n",
    "        axis_cart = dot(my_interface.conv_lattice_1, axis)\n",
    "\n",
    "        axis = np.array(np.round(dot(inv(my_interface.lattice_1), axis_cart),8),dtype = int)\n",
    "        for j in range(len(sigma_list[i])):\n",
    "\n",
    "            sigma = sigma_list[i][j]\n",
    "            my_interface.search_one_position(axis,theta_list[i][j]-0.001,1,0.001)\n",
    "            CSL = my_interface.CSL\n",
    "            n_1, n_2 = get_a_b(CSL, dot(my_interface.lattice_1,axis))\n",
    "\n",
    "            hkl_1, hkl_2 = get_STGB_MLs(my_interface.lattice_1, n_1, n_2)\n",
    "\n",
    "            hkl_name_1 = get_primitive_hkl(hkl_1, my_interface.lattice_1, my_interface.conv_lattice_1)\n",
    "            hkl_name_2 = get_primitive_hkl(hkl_2, my_interface.lattice_2, my_interface.conv_lattice_2)\n",
    "            \n",
    "            get_gb_files(my_interface, hkl_1, axis, sigma, axis_name, hkl_name_1 ,n_1 ,name,element,stgb)\n",
    "\n",
    "            get_gb_files(my_interface, hkl_2, axis, sigma, axis_name, hkl_name_2, n_2 ,name,element,stgb)\n"
   ]
  },
  {
   "cell_type": "code",
   "execution_count": null,
   "metadata": {},
   "outputs": [],
   "source": [
    "def get_theta_sigma_list(axis_list,max_sigma):\n",
    "    theta_list = []\n",
    "    sigma_list = []\n",
    "    for i in axis_list:\n",
    "        lists, thetas = getsigmas(i, max_sigma)\n",
    "        theta_list.append(thetas)\n",
    "        sigma_list.append(lists)\n",
    "    return theta_list,sigma_list"
   ]
  },
  {
   "cell_type": "code",
   "execution_count": null,
   "metadata": {},
   "outputs": [],
   "source": []
  },
  {
   "cell_type": "code",
   "execution_count": null,
   "metadata": {},
   "outputs": [],
   "source": []
  },
  {
   "cell_type": "code",
   "execution_count": null,
   "metadata": {},
   "outputs": [],
   "source": []
  },
  {
   "cell_type": "code",
   "execution_count": null,
   "metadata": {},
   "outputs": [],
   "source": []
  },
  {
   "cell_type": "code",
   "execution_count": null,
   "metadata": {},
   "outputs": [],
   "source": []
  },
  {
   "cell_type": "code",
   "execution_count": null,
   "metadata": {},
   "outputs": [],
   "source": []
  },
  {
   "cell_type": "code",
   "execution_count": null,
   "metadata": {},
   "outputs": [],
   "source": []
  },
  {
   "cell_type": "code",
   "execution_count": null,
   "metadata": {},
   "outputs": [],
   "source": []
  },
  {
   "cell_type": "code",
   "execution_count": null,
   "metadata": {},
   "outputs": [],
   "source": []
  },
  {
   "cell_type": "code",
   "execution_count": null,
   "metadata": {},
   "outputs": [],
   "source": []
  },
  {
   "cell_type": "code",
   "execution_count": null,
   "metadata": {},
   "outputs": [],
   "source": []
  },
  {
   "cell_type": "code",
   "execution_count": null,
   "metadata": {},
   "outputs": [],
   "source": []
  },
  {
   "cell_type": "code",
   "execution_count": null,
   "metadata": {},
   "outputs": [],
   "source": []
  },
  {
   "cell_type": "code",
   "execution_count": null,
   "metadata": {},
   "outputs": [],
   "source": []
  },
  {
   "cell_type": "code",
   "execution_count": null,
   "metadata": {},
   "outputs": [],
   "source": []
  }
 ],
 "metadata": {
  "kernelspec": {
   "display_name": "Python 3",
   "language": "python",
   "name": "python3"
  },
  "language_info": {
   "codemirror_mode": {
    "name": "ipython",
    "version": 3
   },
   "file_extension": ".py",
   "mimetype": "text/x-python",
   "name": "python",
   "nbconvert_exporter": "python",
   "pygments_lexer": "ipython3",
   "version": "3.8.5"
  }
 },
 "nbformat": 4,
 "nbformat_minor": 4
}
